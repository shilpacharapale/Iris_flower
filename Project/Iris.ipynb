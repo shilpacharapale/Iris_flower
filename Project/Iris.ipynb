{
 "cells": [
  {
   "cell_type": "code",
   "execution_count": 2,
   "id": "bcd56cb3",
   "metadata": {},
   "outputs": [],
   "source": [
    "import pandas as pd\n",
    "import numpy as np\n",
    "import seaborn as sns\n",
    "import matplotlib.pyplot as plt\n",
    "\n",
    "#dataset\n",
    "from sklearn.datasets import load_iris\n",
    "\n",
    "#model split\n",
    "from sklearn.model_selection import train_test_split,GridSearchCV,RandomizedSearchCV\n",
    "\n",
    "#Model selection\n",
    "from sklearn.linear_model import LogisticRegression\n",
    "from sklearn.neighbors import KNeighborsClassifier\n",
    "from sklearn.tree import DecisionTreeClassifier,plot_tree\n",
    "from sklearn.ensemble import RandomForestClassifier\n",
    "from statsmodels.stats.outliers_influence import variance_inflation_factor\n",
    "\n",
    "#metrics\n",
    "from sklearn.metrics import confusion_matrix,accuracy_score,classification_report\n",
    "\n",
    "import warnings\n",
    "warnings.filterwarnings(\"ignore\")"
   ]
  },
  {
   "cell_type": "markdown",
   "id": "fc594d11",
   "metadata": {},
   "source": [
    "## 1.Problem Statement"
   ]
  },
  {
   "cell_type": "code",
   "execution_count": null,
   "id": "a9aa0c3f",
   "metadata": {},
   "outputs": [],
   "source": [
    "#predict flower"
   ]
  },
  {
   "cell_type": "markdown",
   "id": "b42a1b34",
   "metadata": {},
   "source": [
    "## 2.Data Gathering"
   ]
  },
  {
   "cell_type": "code",
   "execution_count": 3,
   "id": "99dfbfc0",
   "metadata": {},
   "outputs": [
    {
     "data": {
      "text/html": [
       "<div>\n",
       "<style scoped>\n",
       "    .dataframe tbody tr th:only-of-type {\n",
       "        vertical-align: middle;\n",
       "    }\n",
       "\n",
       "    .dataframe tbody tr th {\n",
       "        vertical-align: top;\n",
       "    }\n",
       "\n",
       "    .dataframe thead th {\n",
       "        text-align: right;\n",
       "    }\n",
       "</style>\n",
       "<table border=\"1\" class=\"dataframe\">\n",
       "  <thead>\n",
       "    <tr style=\"text-align: right;\">\n",
       "      <th></th>\n",
       "      <th>sepal length (cm)</th>\n",
       "      <th>sepal width (cm)</th>\n",
       "      <th>petal length (cm)</th>\n",
       "      <th>petal width (cm)</th>\n",
       "      <th>target</th>\n",
       "    </tr>\n",
       "  </thead>\n",
       "  <tbody>\n",
       "    <tr>\n",
       "      <th>0</th>\n",
       "      <td>5.1</td>\n",
       "      <td>3.5</td>\n",
       "      <td>1.4</td>\n",
       "      <td>0.2</td>\n",
       "      <td>0</td>\n",
       "    </tr>\n",
       "    <tr>\n",
       "      <th>1</th>\n",
       "      <td>4.9</td>\n",
       "      <td>3.0</td>\n",
       "      <td>1.4</td>\n",
       "      <td>0.2</td>\n",
       "      <td>0</td>\n",
       "    </tr>\n",
       "    <tr>\n",
       "      <th>2</th>\n",
       "      <td>4.7</td>\n",
       "      <td>3.2</td>\n",
       "      <td>1.3</td>\n",
       "      <td>0.2</td>\n",
       "      <td>0</td>\n",
       "    </tr>\n",
       "    <tr>\n",
       "      <th>3</th>\n",
       "      <td>4.6</td>\n",
       "      <td>3.1</td>\n",
       "      <td>1.5</td>\n",
       "      <td>0.2</td>\n",
       "      <td>0</td>\n",
       "    </tr>\n",
       "    <tr>\n",
       "      <th>4</th>\n",
       "      <td>5.0</td>\n",
       "      <td>3.6</td>\n",
       "      <td>1.4</td>\n",
       "      <td>0.2</td>\n",
       "      <td>0</td>\n",
       "    </tr>\n",
       "    <tr>\n",
       "      <th>...</th>\n",
       "      <td>...</td>\n",
       "      <td>...</td>\n",
       "      <td>...</td>\n",
       "      <td>...</td>\n",
       "      <td>...</td>\n",
       "    </tr>\n",
       "    <tr>\n",
       "      <th>145</th>\n",
       "      <td>6.7</td>\n",
       "      <td>3.0</td>\n",
       "      <td>5.2</td>\n",
       "      <td>2.3</td>\n",
       "      <td>2</td>\n",
       "    </tr>\n",
       "    <tr>\n",
       "      <th>146</th>\n",
       "      <td>6.3</td>\n",
       "      <td>2.5</td>\n",
       "      <td>5.0</td>\n",
       "      <td>1.9</td>\n",
       "      <td>2</td>\n",
       "    </tr>\n",
       "    <tr>\n",
       "      <th>147</th>\n",
       "      <td>6.5</td>\n",
       "      <td>3.0</td>\n",
       "      <td>5.2</td>\n",
       "      <td>2.0</td>\n",
       "      <td>2</td>\n",
       "    </tr>\n",
       "    <tr>\n",
       "      <th>148</th>\n",
       "      <td>6.2</td>\n",
       "      <td>3.4</td>\n",
       "      <td>5.4</td>\n",
       "      <td>2.3</td>\n",
       "      <td>2</td>\n",
       "    </tr>\n",
       "    <tr>\n",
       "      <th>149</th>\n",
       "      <td>5.9</td>\n",
       "      <td>3.0</td>\n",
       "      <td>5.1</td>\n",
       "      <td>1.8</td>\n",
       "      <td>2</td>\n",
       "    </tr>\n",
       "  </tbody>\n",
       "</table>\n",
       "<p>150 rows × 5 columns</p>\n",
       "</div>"
      ],
      "text/plain": [
       "     sepal length (cm)  sepal width (cm)  petal length (cm)  petal width (cm)  \\\n",
       "0                  5.1               3.5                1.4               0.2   \n",
       "1                  4.9               3.0                1.4               0.2   \n",
       "2                  4.7               3.2                1.3               0.2   \n",
       "3                  4.6               3.1                1.5               0.2   \n",
       "4                  5.0               3.6                1.4               0.2   \n",
       "..                 ...               ...                ...               ...   \n",
       "145                6.7               3.0                5.2               2.3   \n",
       "146                6.3               2.5                5.0               1.9   \n",
       "147                6.5               3.0                5.2               2.0   \n",
       "148                6.2               3.4                5.4               2.3   \n",
       "149                5.9               3.0                5.1               1.8   \n",
       "\n",
       "     target  \n",
       "0         0  \n",
       "1         0  \n",
       "2         0  \n",
       "3         0  \n",
       "4         0  \n",
       "..      ...  \n",
       "145       2  \n",
       "146       2  \n",
       "147       2  \n",
       "148       2  \n",
       "149       2  \n",
       "\n",
       "[150 rows x 5 columns]"
      ]
     },
     "execution_count": 3,
     "metadata": {},
     "output_type": "execute_result"
    }
   ],
   "source": [
    "iris = load_iris()\n",
    "df = pd.DataFrame(iris.data,columns = iris.feature_names)\n",
    "df[\"target\"] = iris.target\n",
    "df"
   ]
  },
  {
   "cell_type": "markdown",
   "id": "39bd8135",
   "metadata": {},
   "source": [
    "## 3 EDA"
   ]
  },
  {
   "cell_type": "code",
   "execution_count": 3,
   "id": "025b5e5b",
   "metadata": {},
   "outputs": [
    {
     "name": "stdout",
     "output_type": "stream",
     "text": [
      "<class 'pandas.core.frame.DataFrame'>\n",
      "RangeIndex: 150 entries, 0 to 149\n",
      "Data columns (total 5 columns):\n",
      " #   Column             Non-Null Count  Dtype  \n",
      "---  ------             --------------  -----  \n",
      " 0   sepal length (cm)  150 non-null    float64\n",
      " 1   sepal width (cm)   150 non-null    float64\n",
      " 2   petal length (cm)  150 non-null    float64\n",
      " 3   petal width (cm)   150 non-null    float64\n",
      " 4   target             150 non-null    int32  \n",
      "dtypes: float64(4), int32(1)\n",
      "memory usage: 5.4 KB\n"
     ]
    }
   ],
   "source": [
    "df.info()  #no categorical data"
   ]
  },
  {
   "cell_type": "code",
   "execution_count": 4,
   "id": "1ba6d3b6",
   "metadata": {},
   "outputs": [
    {
     "data": {
      "text/plain": [
       "sepal length (cm)    0\n",
       "sepal width (cm)     0\n",
       "petal length (cm)    0\n",
       "petal width (cm)     0\n",
       "target               0\n",
       "dtype: int64"
      ]
     },
     "execution_count": 4,
     "metadata": {},
     "output_type": "execute_result"
    }
   ],
   "source": [
    "df.isna().sum() #no null value"
   ]
  },
  {
   "cell_type": "code",
   "execution_count": 5,
   "id": "8dc17450",
   "metadata": {},
   "outputs": [
    {
     "data": {
      "text/plain": [
       "<AxesSubplot:>"
      ]
     },
     "execution_count": 5,
     "metadata": {},
     "output_type": "execute_result"
    },
    {
     "data": {
      "image/png": "[encoded data removed]",
      "text/plain": [
       "<Figure size 432x288 with 1 Axes>"
      ]
     },
     "metadata": {
      "needs_background": "light"
     },
     "output_type": "display_data"
    }
   ],
   "source": [
    "df.boxplot() # outliers in sepal width"
   ]
  },
  {
   "cell_type": "code",
   "execution_count": 58,
   "id": "3d5d72f3",
   "metadata": {},
   "outputs": [
    {
     "data": {
      "text/plain": [
       "<AxesSubplot:xlabel='sepal length (cm)', ylabel='Density'>"
      ]
     },
     "execution_count": 58,
     "metadata": {},
     "output_type": "execute_result"
    },
    {
     "data": {
      "image/png": "[encoded data removed]",
      "text/plain": [
       "<Figure size 432x288 with 1 Axes>"
      ]
     },
     "metadata": {
      "needs_background": "light"
     },
     "output_type": "display_data"
    }
   ],
   "source": [
    "sns.kdeplot(df[\"sepal length (cm)\"],fill = True)"
   ]
  },
  {
   "cell_type": "code",
   "execution_count": 59,
   "id": "c2521c8a",
   "metadata": {},
   "outputs": [
    {
     "data": {
      "text/plain": [
       "<seaborn.axisgrid.FacetGrid at 0x29a145f9f10>"
      ]
     },
     "execution_count": 59,
     "metadata": {},
     "output_type": "execute_result"
    },
    {
     "data": {
      "image/png": "[encoded data removed]",
      "text/plain": [
       "<Figure size 360x360 with 1 Axes>"
      ]
     },
     "metadata": {
      "needs_background": "light"
     },
     "output_type": "display_data"
    }
   ],
   "source": [
    "sns.displot(df[\"sepal width (cm)\"])"
   ]
  },
  {
   "cell_type": "code",
   "execution_count": 62,
   "id": "cebcc143",
   "metadata": {},
   "outputs": [
    {
     "data": {
      "text/plain": [
       "<AxesSubplot:xlabel='petal length (cm)', ylabel='Density'>"
      ]
     },
     "execution_count": 62,
     "metadata": {},
     "output_type": "execute_result"
    },
    {
     "data": {
      "image/png": "[encoded data removed]",
      "text/plain": [
       "<Figure size 432x288 with 1 Axes>"
      ]
     },
     "metadata": {
      "needs_background": "light"
     },
     "output_type": "display_data"
    }
   ],
   "source": [
    "sns.kdeplot(df[\"petal length (cm)\"],fill = True)"
   ]
  },
  {
   "cell_type": "code",
   "execution_count": 66,
   "id": "e179c7d7",
   "metadata": {},
   "outputs": [
    {
     "data": {
      "text/plain": [
       "<AxesSubplot:xlabel='petal width (cm)', ylabel='Density'>"
      ]
     },
     "execution_count": 66,
     "metadata": {},
     "output_type": "execute_result"
    },
    {
     "data": {
      "image/png": "[encoded data removed]",
      "text/plain": [
       "<Figure size 432x288 with 1 Axes>"
      ]
     },
     "metadata": {
      "needs_background": "light"
     },
     "output_type": "display_data"
    }
   ],
   "source": [
    "sns.kdeplot(df[\"petal width (cm)\"],fill = True)"
   ]
  },
  {
   "cell_type": "code",
   "execution_count": 11,
   "id": "1da8d57c",
   "metadata": {},
   "outputs": [
    {
     "data": {
      "text/plain": [
       "<seaborn.axisgrid.PairGrid at 0x29a0a48a880>"
      ]
     },
     "execution_count": 11,
     "metadata": {},
     "output_type": "execute_result"
    },
    {
     "data": {
      "image/png": "[encoded data removed]",
      "text/plain": [
       "<Figure size 900x900 with 30 Axes>"
      ]
     },
     "metadata": {
      "needs_background": "light"
     },
     "output_type": "display_data"
    }
   ],
   "source": [
    "sns.pairplot(df)"
   ]
  },
  {
   "cell_type": "markdown",
   "id": "7eabefa5",
   "metadata": {},
   "source": [
    "## 4 Feature Engineering"
   ]
  },
  {
   "cell_type": "code",
   "execution_count": 6,
   "id": "4a6e1658",
   "metadata": {},
   "outputs": [
    {
     "data": {
      "text/html": [
       "<div>\n",
       "<style scoped>\n",
       "    .dataframe tbody tr th:only-of-type {\n",
       "        vertical-align: middle;\n",
       "    }\n",
       "\n",
       "    .dataframe tbody tr th {\n",
       "        vertical-align: top;\n",
       "    }\n",
       "\n",
       "    .dataframe thead th {\n",
       "        text-align: right;\n",
       "    }\n",
       "</style>\n",
       "<table border=\"1\" class=\"dataframe\">\n",
       "  <thead>\n",
       "    <tr style=\"text-align: right;\">\n",
       "      <th></th>\n",
       "      <th>sepal length (cm)</th>\n",
       "      <th>sepal width (cm)</th>\n",
       "      <th>petal length (cm)</th>\n",
       "      <th>petal width (cm)</th>\n",
       "      <th>target</th>\n",
       "    </tr>\n",
       "  </thead>\n",
       "  <tbody>\n",
       "    <tr>\n",
       "      <th>15</th>\n",
       "      <td>5.7</td>\n",
       "      <td>4.4</td>\n",
       "      <td>1.5</td>\n",
       "      <td>0.4</td>\n",
       "      <td>0</td>\n",
       "    </tr>\n",
       "    <tr>\n",
       "      <th>32</th>\n",
       "      <td>5.2</td>\n",
       "      <td>4.1</td>\n",
       "      <td>1.5</td>\n",
       "      <td>0.1</td>\n",
       "      <td>0</td>\n",
       "    </tr>\n",
       "    <tr>\n",
       "      <th>33</th>\n",
       "      <td>5.5</td>\n",
       "      <td>4.2</td>\n",
       "      <td>1.4</td>\n",
       "      <td>0.2</td>\n",
       "      <td>0</td>\n",
       "    </tr>\n",
       "    <tr>\n",
       "      <th>60</th>\n",
       "      <td>5.0</td>\n",
       "      <td>2.0</td>\n",
       "      <td>3.5</td>\n",
       "      <td>1.0</td>\n",
       "      <td>1</td>\n",
       "    </tr>\n",
       "  </tbody>\n",
       "</table>\n",
       "</div>"
      ],
      "text/plain": [
       "    sepal length (cm)  sepal width (cm)  petal length (cm)  petal width (cm)  \\\n",
       "15                5.7               4.4                1.5               0.4   \n",
       "32                5.2               4.1                1.5               0.1   \n",
       "33                5.5               4.2                1.4               0.2   \n",
       "60                5.0               2.0                3.5               1.0   \n",
       "\n",
       "    target  \n",
       "15       0  \n",
       "32       0  \n",
       "33       0  \n",
       "60       1  "
      ]
     },
     "execution_count": 6,
     "metadata": {},
     "output_type": "execute_result"
    }
   ],
   "source": [
    "q1 = df[\"sepal width (cm)\"].quantile(0.25)\n",
    "q2 = df[\"sepal width (cm)\"].quantile(0.50)\n",
    "q3 = df[\"sepal width (cm)\"].quantile(0.75)\n",
    "\n",
    "IQR = q3-q1\n",
    "uppertail = q3 + (1.5*IQR)\n",
    "lowertail = q1 - (1.5*IQR)\n",
    "df.loc[(df[\"sepal width (cm)\"]>uppertail) | (df[\"sepal width (cm)\"] < lowertail)]\n"
   ]
  },
  {
   "cell_type": "code",
   "execution_count": 7,
   "id": "851a4f09",
   "metadata": {},
   "outputs": [
    {
     "data": {
      "text/plain": [
       "3.0404109589041104"
      ]
     },
     "execution_count": 7,
     "metadata": {},
     "output_type": "execute_result"
    }
   ],
   "source": [
    "spl_mean = df[\"sepal width (cm)\"].loc[(df[\"sepal width (cm)\"]<=uppertail) & (df[\"sepal width (cm)\"] >= lowertail)].mean()\n",
    "spl_mean"
   ]
  },
  {
   "cell_type": "code",
   "execution_count": 8,
   "id": "e5a81afb",
   "metadata": {},
   "outputs": [],
   "source": [
    "df[\"sepal width (cm)\"] = np.where((df[\"sepal width (cm)\"]>uppertail) | (df[\"sepal width (cm)\"] < lowertail),spl_mean,df[\"sepal width (cm)\"])\n"
   ]
  },
  {
   "cell_type": "code",
   "execution_count": 9,
   "id": "11343cbc",
   "metadata": {},
   "outputs": [
    {
     "data": {
      "text/plain": [
       "<AxesSubplot:xlabel='sepal width (cm)'>"
      ]
     },
     "execution_count": 9,
     "metadata": {},
     "output_type": "execute_result"
    },
    {
     "data": {
      "image/png": "[encoded data removed]",
      "text/plain": [
       "<Figure size 432x288 with 1 Axes>"
      ]
     },
     "metadata": {
      "needs_background": "light"
     },
     "output_type": "display_data"
    }
   ],
   "source": [
    "sns.boxplot(df[\"sepal width (cm)\"])"
   ]
  },
  {
   "cell_type": "markdown",
   "id": "d8b69d52",
   "metadata": {},
   "source": [
    "## 5 Feature Selection"
   ]
  },
  {
   "cell_type": "markdown",
   "id": "f138ac95",
   "metadata": {},
   "source": [
    "### 5.1 Kendall"
   ]
  },
  {
   "cell_type": "code",
   "execution_count": 12,
   "id": "fd45bf9a",
   "metadata": {},
   "outputs": [
    {
     "data": {
      "text/html": [
       "<div>\n",
       "<style scoped>\n",
       "    .dataframe tbody tr th:only-of-type {\n",
       "        vertical-align: middle;\n",
       "    }\n",
       "\n",
       "    .dataframe tbody tr th {\n",
       "        vertical-align: top;\n",
       "    }\n",
       "\n",
       "    .dataframe thead th {\n",
       "        text-align: right;\n",
       "    }\n",
       "</style>\n",
       "<table border=\"1\" class=\"dataframe\">\n",
       "  <thead>\n",
       "    <tr style=\"text-align: right;\">\n",
       "      <th></th>\n",
       "      <th>sepal length (cm)</th>\n",
       "      <th>sepal width (cm)</th>\n",
       "      <th>petal length (cm)</th>\n",
       "      <th>petal width (cm)</th>\n",
       "      <th>target</th>\n",
       "    </tr>\n",
       "  </thead>\n",
       "  <tbody>\n",
       "    <tr>\n",
       "      <th>target</th>\n",
       "      <td>0.670444</td>\n",
       "      <td>-0.326032</td>\n",
       "      <td>0.822911</td>\n",
       "      <td>0.839687</td>\n",
       "      <td>1.0</td>\n",
       "    </tr>\n",
       "  </tbody>\n",
       "</table>\n",
       "</div>"
      ],
      "text/plain": [
       "        sepal length (cm)  sepal width (cm)  petal length (cm)  \\\n",
       "target           0.670444         -0.326032           0.822911   \n",
       "\n",
       "        petal width (cm)  target  \n",
       "target          0.839687     1.0  "
      ]
     },
     "execution_count": 12,
     "metadata": {},
     "output_type": "execute_result"
    }
   ],
   "source": [
    "corr = df.corr(method=\"kendall\").tail(1)\n",
    "corr"
   ]
  },
  {
   "cell_type": "code",
   "execution_count": 13,
   "id": "8ea14aef",
   "metadata": {},
   "outputs": [
    {
     "data": {
      "text/plain": [
       "<AxesSubplot:>"
      ]
     },
     "execution_count": 13,
     "metadata": {},
     "output_type": "execute_result"
    },
    {
     "data": {
      "image/png": "[encoded data removed]",
      "text/plain": [
       "<Figure size 432x288 with 2 Axes>"
      ]
     },
     "metadata": {
      "needs_background": "light"
     },
     "output_type": "display_data"
    }
   ],
   "source": [
    "sns.heatmap(corr,annot = True)  #sepal width (cm) less corelation"
   ]
  },
  {
   "cell_type": "markdown",
   "id": "f23cfb72",
   "metadata": {},
   "source": [
    "### 5.2  AnovaTest"
   ]
  },
  {
   "cell_type": "code",
   "execution_count": 14,
   "id": "aaebdce6",
   "metadata": {},
   "outputs": [],
   "source": [
    "from sklearn.feature_selection import f_classif"
   ]
  },
  {
   "cell_type": "code",
   "execution_count": 15,
   "id": "d41cb119",
   "metadata": {},
   "outputs": [],
   "source": [
    "x = pd.DataFrame(load_iris().data,columns = load_iris().feature_names)\n",
    "y = pd.Series(load_iris().target)"
   ]
  },
  {
   "cell_type": "code",
   "execution_count": 16,
   "id": "310010e4",
   "metadata": {},
   "outputs": [
    {
     "data": {
      "text/html": [
       "<div>\n",
       "<style scoped>\n",
       "    .dataframe tbody tr th:only-of-type {\n",
       "        vertical-align: middle;\n",
       "    }\n",
       "\n",
       "    .dataframe tbody tr th {\n",
       "        vertical-align: top;\n",
       "    }\n",
       "\n",
       "    .dataframe thead th {\n",
       "        text-align: right;\n",
       "    }\n",
       "</style>\n",
       "<table border=\"1\" class=\"dataframe\">\n",
       "  <thead>\n",
       "    <tr style=\"text-align: right;\">\n",
       "      <th></th>\n",
       "      <th>f_value</th>\n",
       "      <th>p_value</th>\n",
       "    </tr>\n",
       "  </thead>\n",
       "  <tbody>\n",
       "    <tr>\n",
       "      <th>sepal length (cm)</th>\n",
       "      <td>119.264502</td>\n",
       "      <td>0.0</td>\n",
       "    </tr>\n",
       "    <tr>\n",
       "      <th>sepal width (cm)</th>\n",
       "      <td>49.160040</td>\n",
       "      <td>0.0</td>\n",
       "    </tr>\n",
       "    <tr>\n",
       "      <th>petal length (cm)</th>\n",
       "      <td>1180.161182</td>\n",
       "      <td>0.0</td>\n",
       "    </tr>\n",
       "    <tr>\n",
       "      <th>petal width (cm)</th>\n",
       "      <td>960.007147</td>\n",
       "      <td>0.0</td>\n",
       "    </tr>\n",
       "  </tbody>\n",
       "</table>\n",
       "</div>"
      ],
      "text/plain": [
       "                       f_value  p_value\n",
       "sepal length (cm)   119.264502      0.0\n",
       "sepal width (cm)     49.160040      0.0\n",
       "petal length (cm)  1180.161182      0.0\n",
       "petal width (cm)    960.007147      0.0"
      ]
     },
     "execution_count": 16,
     "metadata": {},
     "output_type": "execute_result"
    }
   ],
   "source": [
    "f_val,p_val = f_classif(x,y) \n",
    "df1 = pd.DataFrame({\"f_value\":f_val,\"p_value\":np.around(p_val,4)},index = x.columns)\n",
    "df1  #f_value less so dropit\n"
   ]
  },
  {
   "cell_type": "code",
   "execution_count": 19,
   "id": "1de57ad0",
   "metadata": {},
   "outputs": [
    {
     "data": {
      "text/html": [
       "<div>\n",
       "<style scoped>\n",
       "    .dataframe tbody tr th:only-of-type {\n",
       "        vertical-align: middle;\n",
       "    }\n",
       "\n",
       "    .dataframe tbody tr th {\n",
       "        vertical-align: top;\n",
       "    }\n",
       "\n",
       "    .dataframe thead th {\n",
       "        text-align: right;\n",
       "    }\n",
       "</style>\n",
       "<table border=\"1\" class=\"dataframe\">\n",
       "  <thead>\n",
       "    <tr style=\"text-align: right;\">\n",
       "      <th></th>\n",
       "      <th>features</th>\n",
       "      <th>vif_factor</th>\n",
       "    </tr>\n",
       "  </thead>\n",
       "  <tbody>\n",
       "    <tr>\n",
       "      <th>0</th>\n",
       "      <td>sepal length (cm)</td>\n",
       "      <td>240.605585</td>\n",
       "    </tr>\n",
       "    <tr>\n",
       "      <th>1</th>\n",
       "      <td>sepal width (cm)</td>\n",
       "      <td>90.801711</td>\n",
       "    </tr>\n",
       "    <tr>\n",
       "      <th>2</th>\n",
       "      <td>petal length (cm)</td>\n",
       "      <td>175.525834</td>\n",
       "    </tr>\n",
       "    <tr>\n",
       "      <th>3</th>\n",
       "      <td>petal width (cm)</td>\n",
       "      <td>69.845265</td>\n",
       "    </tr>\n",
       "  </tbody>\n",
       "</table>\n",
       "</div>"
      ],
      "text/plain": [
       "            features  vif_factor\n",
       "0  sepal length (cm)  240.605585\n",
       "1   sepal width (cm)   90.801711\n",
       "2  petal length (cm)  175.525834\n",
       "3   petal width (cm)   69.845265"
      ]
     },
     "execution_count": 19,
     "metadata": {},
     "output_type": "execute_result"
    }
   ],
   "source": [
    "vif = pd.DataFrame()\n",
    "df_1 = df.drop(\"target\",axis = 1)\n",
    "vif[\"features\"] = df_1.columns\n",
    "vif[\"vif_factor\"] = [variance_inflation_factor(df.values,i) for i in range(df_1.shape[1])]\n",
    "vif\n"
   ]
  },
  {
   "cell_type": "markdown",
   "id": "c006c304",
   "metadata": {},
   "source": [
    "## Evaluation with feature selection"
   ]
  },
  {
   "cell_type": "code",
   "execution_count": 20,
   "id": "aeb789e6",
   "metadata": {},
   "outputs": [],
   "source": [
    "x1 = df.drop([\"target\",\"sepal width (cm)\"],axis = 1)\n",
    "y1 = df[\"target\"]\n",
    "# x1"
   ]
  },
  {
   "cell_type": "markdown",
   "id": "d186fbb2",
   "metadata": {},
   "source": [
    "#### LogisticRegression"
   ]
  },
  {
   "cell_type": "code",
   "execution_count": 21,
   "id": "b58c9b23",
   "metadata": {},
   "outputs": [
    {
     "data": {
      "text/plain": [
       "LogisticRegression()"
      ]
     },
     "execution_count": 21,
     "metadata": {},
     "output_type": "execute_result"
    }
   ],
   "source": [
    "x_train,x_test,y_train,y_test = train_test_split(x1,y1,test_size=0.2,random_state=42,stratify=y)\n",
    "lgc_model = LogisticRegression()\n",
    "lgc_model.fit(x_train,y_train)"
   ]
  },
  {
   "cell_type": "code",
   "execution_count": 22,
   "id": "77e29009",
   "metadata": {},
   "outputs": [
    {
     "name": "stdout",
     "output_type": "stream",
     "text": [
      "confusion matrics\n",
      " [[40  0  0]\n",
      " [ 0 38  2]\n",
      " [ 0  2 38]]\n",
      "accuracy  0.9666666666666667\n",
      "classification report\n",
      "               precision    recall  f1-score   support\n",
      "\n",
      "           0       1.00      1.00      1.00        40\n",
      "           1       0.95      0.95      0.95        40\n",
      "           2       0.95      0.95      0.95        40\n",
      "\n",
      "    accuracy                           0.97       120\n",
      "   macro avg       0.97      0.97      0.97       120\n",
      "weighted avg       0.97      0.97      0.97       120\n",
      "\n"
     ]
    }
   ],
   "source": [
    "# feature selection\n",
    "#training\n",
    "\n",
    "y_pred_train = lgc_model.predict(x_train)\n",
    "\n",
    "cnf_matrics = confusion_matrix(y_train,y_pred_train)\n",
    "print(\"confusion matrics\\n\",cnf_matrics)\n",
    "\n",
    "accuracy = accuracy_score(y_train,y_pred_train)\n",
    "print(\"accuracy \",accuracy)\n",
    "\n",
    "cls_report = classification_report(y_train,y_pred_train)\n",
    "print(\"classification report\\n\",cls_report)"
   ]
  },
  {
   "cell_type": "code",
   "execution_count": 23,
   "id": "86b989b7",
   "metadata": {},
   "outputs": [
    {
     "name": "stdout",
     "output_type": "stream",
     "text": [
      "confusion matrics\n",
      " [[10  0  0]\n",
      " [ 0  9  0]\n",
      " [ 0  0 11]]\n",
      "accuracy  1.0\n",
      "classification report\n",
      "               precision    recall  f1-score   support\n",
      "\n",
      "           0       1.00      1.00      1.00        10\n",
      "           1       1.00      1.00      1.00         9\n",
      "           2       1.00      1.00      1.00        11\n",
      "\n",
      "    accuracy                           1.00        30\n",
      "   macro avg       1.00      1.00      1.00        30\n",
      "weighted avg       1.00      1.00      1.00        30\n",
      "\n"
     ]
    }
   ],
   "source": [
    "# feature selection\n",
    "#testing\n",
    "\n",
    "y_pred_test = lgc_model.predict(x_test)\n",
    "\n",
    "cnf_matrics = confusion_matrix(y_pred_test,y_pred_test)\n",
    "print(\"confusion matrics\\n\",cnf_matrics)\n",
    "\n",
    "accuracy = accuracy_score(y_pred_test,y_pred_test)\n",
    "print(\"accuracy \",accuracy)\n",
    "\n",
    "cls_report = classification_report(y_pred_test,y_pred_test)\n",
    "print(\"classification report\\n\",cls_report)"
   ]
  },
  {
   "cell_type": "markdown",
   "id": "e0aabf86",
   "metadata": {},
   "source": [
    "#### knn"
   ]
  },
  {
   "cell_type": "code",
   "execution_count": 24,
   "id": "e9a90e2d",
   "metadata": {},
   "outputs": [
    {
     "data": {
      "text/plain": [
       "0.9666666666666667"
      ]
     },
     "execution_count": 24,
     "metadata": {},
     "output_type": "execute_result"
    }
   ],
   "source": [
    "knn1 =KNeighborsClassifier()\n",
    "knn1.fit(x_train,y_train)\n",
    "knn1.score(x_train,y_train)"
   ]
  },
  {
   "cell_type": "code",
   "execution_count": 25,
   "id": "29f54f23",
   "metadata": {},
   "outputs": [
    {
     "data": {
      "text/plain": [
       "1.0"
      ]
     },
     "execution_count": 25,
     "metadata": {},
     "output_type": "execute_result"
    }
   ],
   "source": [
    "knn1 =KNeighborsClassifier()\n",
    "knn1.fit(x_train,y_train)\n",
    "knn1.score(x_test,y_test)"
   ]
  },
  {
   "cell_type": "markdown",
   "id": "8ad2a106",
   "metadata": {},
   "source": [
    "### hyperparametr"
   ]
  },
  {
   "cell_type": "markdown",
   "id": "250d21b3",
   "metadata": {},
   "source": [
    "#### gscv"
   ]
  },
  {
   "cell_type": "code",
   "execution_count": 26,
   "id": "55c81a17",
   "metadata": {},
   "outputs": [
    {
     "data": {
      "text/plain": [
       "KNeighborsClassifier(n_neighbors=13, p=1)"
      ]
     },
     "execution_count": 26,
     "metadata": {},
     "output_type": "execute_result"
    }
   ],
   "source": [
    "knn_clf = KNeighborsClassifier()\n",
    "parameter = {\"n_neighbors\": np.arange(2,20),\n",
    "            \"p\":[1,2]}\n",
    "gscv = GridSearchCV(knn_clf,parameter,cv = 5)\n",
    "gscv.fit(x_train,y_train)\n",
    "gscv.best_estimator_"
   ]
  },
  {
   "cell_type": "code",
   "execution_count": 27,
   "id": "61e39c1b",
   "metadata": {},
   "outputs": [
    {
     "data": {
      "text/plain": [
       "0.9666666666666667"
      ]
     },
     "execution_count": 27,
     "metadata": {},
     "output_type": "execute_result"
    }
   ],
   "source": [
    "knn1 =KNeighborsClassifier(n_neighbors=13, p=1)\n",
    "knn1.fit(x_train,y_train)\n",
    "knn1.score(x_train,y_train)"
   ]
  },
  {
   "cell_type": "code",
   "execution_count": 28,
   "id": "74bb887d",
   "metadata": {},
   "outputs": [
    {
     "data": {
      "text/plain": [
       "0.9"
      ]
     },
     "execution_count": 28,
     "metadata": {},
     "output_type": "execute_result"
    }
   ],
   "source": [
    "knn1 =KNeighborsClassifier(n_neighbors=13, p=1)\n",
    "knn1.fit(x_test,y_test)\n",
    "knn1.score(x_test,y_test)"
   ]
  },
  {
   "cell_type": "markdown",
   "id": "ac25f50d",
   "metadata": {},
   "source": [
    "#### rmscv"
   ]
  },
  {
   "cell_type": "code",
   "execution_count": 27,
   "id": "a258d12a",
   "metadata": {},
   "outputs": [
    {
     "data": {
      "text/plain": [
       "KNeighborsClassifier(n_neighbors=6, p=1)"
      ]
     },
     "execution_count": 27,
     "metadata": {},
     "output_type": "execute_result"
    }
   ],
   "source": [
    "knn_clf = KNeighborsClassifier()\n",
    "parameter = {\"n_neighbors\": np.arange(2,20),\n",
    "            \"p\":[1,2]}\n",
    "rmcv = RandomizedSearchCV(knn_clf,parameter,cv = 5)\n",
    "rmcv.fit(x_train,y_train)\n",
    "rmcv.best_estimator_"
   ]
  },
  {
   "cell_type": "code",
   "execution_count": 28,
   "id": "16e8f964",
   "metadata": {},
   "outputs": [
    {
     "data": {
      "text/plain": [
       "0.9583333333333334"
      ]
     },
     "execution_count": 28,
     "metadata": {},
     "output_type": "execute_result"
    }
   ],
   "source": [
    "knn1 =KNeighborsClassifier(n_neighbors=6, p=1)\n",
    "knn1.fit(x_train,y_train)\n",
    "knn1.score(x_train,y_train)"
   ]
  },
  {
   "cell_type": "code",
   "execution_count": 30,
   "id": "d4454a86",
   "metadata": {},
   "outputs": [
    {
     "data": {
      "text/plain": [
       "0.9"
      ]
     },
     "execution_count": 30,
     "metadata": {},
     "output_type": "execute_result"
    }
   ],
   "source": [
    "knn1 =KNeighborsClassifier(n_neighbors=6, p=1)\n",
    "knn1.fit(x_test,y_test)\n",
    "knn1.score(x_test,y_test)"
   ]
  },
  {
   "cell_type": "code",
   "execution_count": null,
   "id": "b414e44e",
   "metadata": {},
   "outputs": [],
   "source": []
  },
  {
   "cell_type": "code",
   "execution_count": null,
   "id": "e79a88e9",
   "metadata": {},
   "outputs": [],
   "source": []
  },
  {
   "cell_type": "markdown",
   "id": "eb103eba",
   "metadata": {},
   "source": [
    "## 6 Model Training"
   ]
  },
  {
   "cell_type": "markdown",
   "id": "c91f7f0f",
   "metadata": {},
   "source": [
    "### model split"
   ]
  },
  {
   "cell_type": "code",
   "execution_count": 29,
   "id": "57f0bf91",
   "metadata": {},
   "outputs": [],
   "source": [
    "x = df.drop(\"target\",axis = 1)\n",
    "y = df[\"target\"]"
   ]
  },
  {
   "cell_type": "code",
   "execution_count": 30,
   "id": "292a2866",
   "metadata": {},
   "outputs": [],
   "source": [
    "x_train,x_test,y_train,y_test = train_test_split(x,y,test_size=0.2,random_state=42,stratify=y)"
   ]
  },
  {
   "cell_type": "markdown",
   "id": "323eefc5",
   "metadata": {},
   "source": [
    "## model "
   ]
  },
  {
   "cell_type": "markdown",
   "id": "0fc5ee82",
   "metadata": {},
   "source": [
    "#### LogisticRegression"
   ]
  },
  {
   "cell_type": "code",
   "execution_count": 32,
   "id": "b94d81ce",
   "metadata": {},
   "outputs": [],
   "source": [
    "from mlxtend.feature_selection import SequentialFeatureSelector\n"
   ]
  },
  {
   "cell_type": "code",
   "execution_count": 33,
   "id": "65e7d31e",
   "metadata": {},
   "outputs": [
    {
     "data": {
      "text/html": [
       "<div>\n",
       "<style scoped>\n",
       "    .dataframe tbody tr th:only-of-type {\n",
       "        vertical-align: middle;\n",
       "    }\n",
       "\n",
       "    .dataframe tbody tr th {\n",
       "        vertical-align: top;\n",
       "    }\n",
       "\n",
       "    .dataframe thead th {\n",
       "        text-align: right;\n",
       "    }\n",
       "</style>\n",
       "<table border=\"1\" class=\"dataframe\">\n",
       "  <thead>\n",
       "    <tr style=\"text-align: right;\">\n",
       "      <th></th>\n",
       "      <th>feature_idx</th>\n",
       "      <th>cv_scores</th>\n",
       "      <th>avg_score</th>\n",
       "      <th>feature_names</th>\n",
       "    </tr>\n",
       "  </thead>\n",
       "  <tbody>\n",
       "    <tr>\n",
       "      <th>1</th>\n",
       "      <td>(3,)</td>\n",
       "      <td>[0.9583333333333334, 0.9583333333333334, 1.0, ...</td>\n",
       "      <td>0.966667</td>\n",
       "      <td>(petal width (cm),)</td>\n",
       "    </tr>\n",
       "    <tr>\n",
       "      <th>2</th>\n",
       "      <td>(2, 3)</td>\n",
       "      <td>[0.9583333333333334, 0.9583333333333334, 0.958...</td>\n",
       "      <td>0.966667</td>\n",
       "      <td>(petal length (cm), petal width (cm))</td>\n",
       "    </tr>\n",
       "    <tr>\n",
       "      <th>3</th>\n",
       "      <td>(0, 2, 3)</td>\n",
       "      <td>[0.9583333333333334, 0.9583333333333334, 0.958...</td>\n",
       "      <td>0.966667</td>\n",
       "      <td>(sepal length (cm), petal length (cm), petal w...</td>\n",
       "    </tr>\n",
       "  </tbody>\n",
       "</table>\n",
       "</div>"
      ],
      "text/plain": [
       "  feature_idx                                          cv_scores avg_score  \\\n",
       "1        (3,)  [0.9583333333333334, 0.9583333333333334, 1.0, ...  0.966667   \n",
       "2      (2, 3)  [0.9583333333333334, 0.9583333333333334, 0.958...  0.966667   \n",
       "3   (0, 2, 3)  [0.9583333333333334, 0.9583333333333334, 0.958...  0.966667   \n",
       "\n",
       "                                       feature_names  \n",
       "1                                (petal width (cm),)  \n",
       "2              (petal length (cm), petal width (cm))  \n",
       "3  (sepal length (cm), petal length (cm), petal w...  "
      ]
     },
     "execution_count": 33,
     "metadata": {},
     "output_type": "execute_result"
    }
   ],
   "source": [
    "#with feature select\n",
    "logistic_model = LogisticRegression()\n",
    "sfs = SequentialFeatureSelector(logistic_model,k_features=3,forward=True,cv = 5 ,n_jobs=-1)\n",
    "sfs.fit(x_train,y_train)\n",
    "df1 = pd.DataFrame(sfs.subsets_).T\n",
    "df1"
   ]
  },
  {
   "cell_type": "code",
   "execution_count": 34,
   "id": "7a909f60",
   "metadata": {},
   "outputs": [
    {
     "data": {
      "text/plain": [
       "LogisticRegression()"
      ]
     },
     "execution_count": 34,
     "metadata": {},
     "output_type": "execute_result"
    }
   ],
   "source": [
    "logistic_model = LogisticRegression()\n",
    "logistic_model.fit(x_train,y_train)"
   ]
  },
  {
   "cell_type": "markdown",
   "id": "98b127c2",
   "metadata": {},
   "source": [
    "## 7 Evaluation"
   ]
  },
  {
   "cell_type": "code",
   "execution_count": 35,
   "id": "5e5c8cdb",
   "metadata": {},
   "outputs": [
    {
     "name": "stdout",
     "output_type": "stream",
     "text": [
      "confusion matrics\n",
      " [[40  0  0]\n",
      " [ 0 38  2]\n",
      " [ 0  1 39]]\n",
      "accuracy  0.975\n",
      "classification report\n",
      "               precision    recall  f1-score   support\n",
      "\n",
      "           0       1.00      1.00      1.00        40\n",
      "           1       0.97      0.95      0.96        40\n",
      "           2       0.95      0.97      0.96        40\n",
      "\n",
      "    accuracy                           0.97       120\n",
      "   macro avg       0.98      0.97      0.97       120\n",
      "weighted avg       0.98      0.97      0.97       120\n",
      "\n"
     ]
    }
   ],
   "source": [
    "#training\n",
    "\n",
    "y_pred_train = logistic_model.predict(x_train)\n",
    "\n",
    "cnf_matrics = confusion_matrix(y_train,y_pred_train)\n",
    "print(\"confusion matrics\\n\",cnf_matrics)\n",
    "\n",
    "accuracy = accuracy_score(y_train,y_pred_train)\n",
    "print(\"accuracy \",accuracy)\n",
    "\n",
    "cls_report = classification_report(y_train,y_pred_train)\n",
    "print(\"classification report\\n\",cls_report)"
   ]
  },
  {
   "cell_type": "code",
   "execution_count": 36,
   "id": "1c1198b0",
   "metadata": {},
   "outputs": [
    {
     "name": "stdout",
     "output_type": "stream",
     "text": [
      "confusion matrics\n",
      " [[10  0  0]\n",
      " [ 0  9  1]\n",
      " [ 0  0 10]]\n",
      "accuracy  0.9666666666666667\n",
      "classification report\n",
      "               precision    recall  f1-score   support\n",
      "\n",
      "           0       1.00      1.00      1.00        10\n",
      "           1       1.00      0.90      0.95        10\n",
      "           2       0.91      1.00      0.95        10\n",
      "\n",
      "    accuracy                           0.97        30\n",
      "   macro avg       0.97      0.97      0.97        30\n",
      "weighted avg       0.97      0.97      0.97        30\n",
      "\n"
     ]
    }
   ],
   "source": [
    "#testing\n",
    "\n",
    "y_pred_test = logistic_model.predict(x_test)\n",
    "\n",
    "cnf_matrics = confusion_matrix(y_test,y_pred_test)\n",
    "print(\"confusion matrics\\n\",cnf_matrics)\n",
    "\n",
    "accuracy = accuracy_score(y_test,y_pred_test)\n",
    "print(\"accuracy \",accuracy)\n",
    "\n",
    "cls_report = classification_report(y_test,y_pred_test)\n",
    "print(\"classification report\\n\",cls_report)"
   ]
  },
  {
   "cell_type": "code",
   "execution_count": null,
   "id": "f7375d21",
   "metadata": {},
   "outputs": [],
   "source": []
  },
  {
   "cell_type": "markdown",
   "id": "99ce88b4",
   "metadata": {},
   "source": [
    "#### KNN"
   ]
  },
  {
   "cell_type": "code",
   "execution_count": 37,
   "id": "6b8b3d4d",
   "metadata": {},
   "outputs": [],
   "source": [
    "#with feature select"
   ]
  },
  {
   "cell_type": "code",
   "execution_count": 38,
   "id": "9ec570e5",
   "metadata": {},
   "outputs": [
    {
     "data": {
      "text/html": [
       "<div>\n",
       "<style scoped>\n",
       "    .dataframe tbody tr th:only-of-type {\n",
       "        vertical-align: middle;\n",
       "    }\n",
       "\n",
       "    .dataframe tbody tr th {\n",
       "        vertical-align: top;\n",
       "    }\n",
       "\n",
       "    .dataframe thead th {\n",
       "        text-align: right;\n",
       "    }\n",
       "</style>\n",
       "<table border=\"1\" class=\"dataframe\">\n",
       "  <thead>\n",
       "    <tr style=\"text-align: right;\">\n",
       "      <th></th>\n",
       "      <th>feature_idx</th>\n",
       "      <th>cv_scores</th>\n",
       "      <th>avg_score</th>\n",
       "      <th>feature_names</th>\n",
       "    </tr>\n",
       "  </thead>\n",
       "  <tbody>\n",
       "    <tr>\n",
       "      <th>4</th>\n",
       "      <td>(0, 1, 2, 3)</td>\n",
       "      <td>[0.9166666666666666, 1.0, 0.9583333333333334, ...</td>\n",
       "      <td>0.975</td>\n",
       "      <td>(sepal length (cm), sepal width (cm), petal le...</td>\n",
       "    </tr>\n",
       "    <tr>\n",
       "      <th>3</th>\n",
       "      <td>(1, 2, 3)</td>\n",
       "      <td>[0.9166666666666666, 0.9583333333333334, 0.958...</td>\n",
       "      <td>0.966667</td>\n",
       "      <td>(sepal width (cm), petal length (cm), petal wi...</td>\n",
       "    </tr>\n",
       "  </tbody>\n",
       "</table>\n",
       "</div>"
      ],
      "text/plain": [
       "    feature_idx                                          cv_scores avg_score  \\\n",
       "4  (0, 1, 2, 3)  [0.9166666666666666, 1.0, 0.9583333333333334, ...     0.975   \n",
       "3     (1, 2, 3)  [0.9166666666666666, 0.9583333333333334, 0.958...  0.966667   \n",
       "\n",
       "                                       feature_names  \n",
       "4  (sepal length (cm), sepal width (cm), petal le...  \n",
       "3  (sepal width (cm), petal length (cm), petal wi...  "
      ]
     },
     "execution_count": 38,
     "metadata": {},
     "output_type": "execute_result"
    }
   ],
   "source": [
    "knn =KNeighborsClassifier()\n",
    "sfs = SequentialFeatureSelector(knn,k_features=3,forward=False,cv = 5 ,n_jobs=-1)\n",
    "sfs.fit(x_train,y_train)\n",
    "df2 = pd.DataFrame(sfs.subsets_).T\n",
    "df2"
   ]
  },
  {
   "cell_type": "code",
   "execution_count": 39,
   "id": "49aaf53b",
   "metadata": {},
   "outputs": [
    {
     "data": {
      "text/html": [
       "<div>\n",
       "<style scoped>\n",
       "    .dataframe tbody tr th:only-of-type {\n",
       "        vertical-align: middle;\n",
       "    }\n",
       "\n",
       "    .dataframe tbody tr th {\n",
       "        vertical-align: top;\n",
       "    }\n",
       "\n",
       "    .dataframe thead th {\n",
       "        text-align: right;\n",
       "    }\n",
       "</style>\n",
       "<table border=\"1\" class=\"dataframe\">\n",
       "  <thead>\n",
       "    <tr style=\"text-align: right;\">\n",
       "      <th></th>\n",
       "      <th>feature_idx</th>\n",
       "      <th>cv_scores</th>\n",
       "      <th>avg_score</th>\n",
       "      <th>feature_names</th>\n",
       "    </tr>\n",
       "  </thead>\n",
       "  <tbody>\n",
       "    <tr>\n",
       "      <th>4</th>\n",
       "      <td>(0, 1, 2, 3)</td>\n",
       "      <td>[0.8333333333333334, 1.0, 0.8333333333333334, ...</td>\n",
       "      <td>0.9</td>\n",
       "      <td>(sepal length (cm), sepal width (cm), petal le...</td>\n",
       "    </tr>\n",
       "    <tr>\n",
       "      <th>3</th>\n",
       "      <td>(0, 2, 3)</td>\n",
       "      <td>[0.8333333333333334, 1.0, 0.8333333333333334, ...</td>\n",
       "      <td>0.933333</td>\n",
       "      <td>(sepal length (cm), petal length (cm), petal w...</td>\n",
       "    </tr>\n",
       "  </tbody>\n",
       "</table>\n",
       "</div>"
      ],
      "text/plain": [
       "    feature_idx                                          cv_scores avg_score  \\\n",
       "4  (0, 1, 2, 3)  [0.8333333333333334, 1.0, 0.8333333333333334, ...       0.9   \n",
       "3     (0, 2, 3)  [0.8333333333333334, 1.0, 0.8333333333333334, ...  0.933333   \n",
       "\n",
       "                                       feature_names  \n",
       "4  (sepal length (cm), sepal width (cm), petal le...  \n",
       "3  (sepal length (cm), petal length (cm), petal w...  "
      ]
     },
     "execution_count": 39,
     "metadata": {},
     "output_type": "execute_result"
    }
   ],
   "source": [
    "knn =KNeighborsClassifier()\n",
    "sfs = SequentialFeatureSelector(knn,k_features=3,forward=False,cv = 5 ,n_jobs=-1)\n",
    "sfs.fit(x_test,y_test)\n",
    "df2 = pd.DataFrame(sfs.subsets_).T\n",
    "df2"
   ]
  },
  {
   "cell_type": "code",
   "execution_count": null,
   "id": "6ebe04b3",
   "metadata": {},
   "outputs": [],
   "source": []
  },
  {
   "cell_type": "code",
   "execution_count": 40,
   "id": "83b1c87a",
   "metadata": {},
   "outputs": [],
   "source": [
    "# without feature select"
   ]
  },
  {
   "cell_type": "code",
   "execution_count": 41,
   "id": "6fa00fd9",
   "metadata": {},
   "outputs": [
    {
     "data": {
      "text/plain": [
       "KNeighborsClassifier()"
      ]
     },
     "execution_count": 41,
     "metadata": {},
     "output_type": "execute_result"
    }
   ],
   "source": [
    "knn_clf = KNeighborsClassifier()\n",
    "knn_clf.fit(x_train,y_train)"
   ]
  },
  {
   "cell_type": "code",
   "execution_count": 42,
   "id": "04b0c48a",
   "metadata": {},
   "outputs": [
    {
     "name": "stdout",
     "output_type": "stream",
     "text": [
      "confusion matrics\n",
      " [[40  0  0]\n",
      " [ 0 38  2]\n",
      " [ 0  2 38]]\n",
      "accuracy  0.9666666666666667\n",
      "classification report\n",
      "               precision    recall  f1-score   support\n",
      "\n",
      "           0       1.00      1.00      1.00        40\n",
      "           1       0.95      0.95      0.95        40\n",
      "           2       0.95      0.95      0.95        40\n",
      "\n",
      "    accuracy                           0.97       120\n",
      "   macro avg       0.97      0.97      0.97       120\n",
      "weighted avg       0.97      0.97      0.97       120\n",
      "\n"
     ]
    }
   ],
   "source": [
    "#training\n",
    "\n",
    "y_pred_train = knn_clf.predict(x_train)\n",
    "\n",
    "cnf_matrics = confusion_matrix(y_train,y_pred_train)\n",
    "print(\"confusion matrics\\n\",cnf_matrics)\n",
    "\n",
    "accuracy = accuracy_score(y_train,y_pred_train)\n",
    "print(\"accuracy \",accuracy)\n",
    "\n",
    "cls_report = classification_report(y_train,y_pred_train)\n",
    "print(\"classification report\\n\",cls_report)"
   ]
  },
  {
   "cell_type": "code",
   "execution_count": 43,
   "id": "e96b2339",
   "metadata": {},
   "outputs": [
    {
     "name": "stdout",
     "output_type": "stream",
     "text": [
      "confusion matrics\n",
      " [[10  0  0]\n",
      " [ 0 10  0]\n",
      " [ 0  0 10]]\n",
      "accuracy  1.0\n",
      "classification report\n",
      "               precision    recall  f1-score   support\n",
      "\n",
      "           0       1.00      1.00      1.00        10\n",
      "           1       1.00      1.00      1.00        10\n",
      "           2       1.00      1.00      1.00        10\n",
      "\n",
      "    accuracy                           1.00        30\n",
      "   macro avg       1.00      1.00      1.00        30\n",
      "weighted avg       1.00      1.00      1.00        30\n",
      "\n"
     ]
    }
   ],
   "source": [
    "#testing\n",
    "\n",
    "y_pred_test = knn_clf.predict(x_test)\n",
    "\n",
    "cnf_matrics = confusion_matrix(y_test,y_pred_test)\n",
    "print(\"confusion matrics\\n\",cnf_matrics)\n",
    "\n",
    "accuracy = accuracy_score(y_test,y_pred_test)\n",
    "print(\"accuracy \",accuracy)\n",
    "\n",
    "cls_report = classification_report(y_test,y_pred_test)\n",
    "print(\"classification report\\n\",cls_report)"
   ]
  },
  {
   "cell_type": "markdown",
   "id": "429e36e8",
   "metadata": {},
   "source": [
    "### Hyperparameter Tuning"
   ]
  },
  {
   "cell_type": "markdown",
   "id": "a57afcb9",
   "metadata": {},
   "source": [
    "### GridSearchCV"
   ]
  },
  {
   "cell_type": "code",
   "execution_count": 44,
   "id": "2a2aad57",
   "metadata": {},
   "outputs": [],
   "source": [
    "#with feature select"
   ]
  },
  {
   "cell_type": "code",
   "execution_count": 45,
   "id": "ad3cdf0e",
   "metadata": {},
   "outputs": [
    {
     "data": {
      "text/html": [
       "<div>\n",
       "<style scoped>\n",
       "    .dataframe tbody tr th:only-of-type {\n",
       "        vertical-align: middle;\n",
       "    }\n",
       "\n",
       "    .dataframe tbody tr th {\n",
       "        vertical-align: top;\n",
       "    }\n",
       "\n",
       "    .dataframe thead th {\n",
       "        text-align: right;\n",
       "    }\n",
       "</style>\n",
       "<table border=\"1\" class=\"dataframe\">\n",
       "  <thead>\n",
       "    <tr style=\"text-align: right;\">\n",
       "      <th></th>\n",
       "      <th>feature_idx</th>\n",
       "      <th>cv_scores</th>\n",
       "      <th>avg_score</th>\n",
       "      <th>feature_names</th>\n",
       "    </tr>\n",
       "  </thead>\n",
       "  <tbody>\n",
       "    <tr>\n",
       "      <th>4</th>\n",
       "      <td>(0, 1, 2, 3)</td>\n",
       "      <td>[0.9583333333333334, 0.9583333333333334, 0.958...</td>\n",
       "      <td>0.975</td>\n",
       "      <td>(sepal length (cm), sepal width (cm), petal le...</td>\n",
       "    </tr>\n",
       "    <tr>\n",
       "      <th>3</th>\n",
       "      <td>(1, 2, 3)</td>\n",
       "      <td>[0.9583333333333334, 1.0, 0.9583333333333334, ...</td>\n",
       "      <td>0.975</td>\n",
       "      <td>(sepal width (cm), petal length (cm), petal wi...</td>\n",
       "    </tr>\n",
       "  </tbody>\n",
       "</table>\n",
       "</div>"
      ],
      "text/plain": [
       "    feature_idx                                          cv_scores avg_score  \\\n",
       "4  (0, 1, 2, 3)  [0.9583333333333334, 0.9583333333333334, 0.958...     0.975   \n",
       "3     (1, 2, 3)  [0.9583333333333334, 1.0, 0.9583333333333334, ...     0.975   \n",
       "\n",
       "                                       feature_names  \n",
       "4  (sepal length (cm), sepal width (cm), petal le...  \n",
       "3  (sepal width (cm), petal length (cm), petal wi...  "
      ]
     },
     "execution_count": 45,
     "metadata": {},
     "output_type": "execute_result"
    }
   ],
   "source": [
    "knn =KNeighborsClassifier()\n",
    "parameter = {\"n_neighbors\": np.arange(2,20),\n",
    "            \"p\":[1,2]}\n",
    "gscv = GridSearchCV(knn_clf,parameter,cv = 5)\n",
    "sfs = SequentialFeatureSelector(gscv,k_features=3,forward=False,cv = 5 ,n_jobs=-1)\n",
    "sfs.fit(x_train,y_train)\n",
    "df2 = pd.DataFrame(sfs.subsets_).T\n",
    "df2"
   ]
  },
  {
   "cell_type": "code",
   "execution_count": 46,
   "id": "551d8fee",
   "metadata": {},
   "outputs": [
    {
     "data": {
      "text/html": [
       "<div>\n",
       "<style scoped>\n",
       "    .dataframe tbody tr th:only-of-type {\n",
       "        vertical-align: middle;\n",
       "    }\n",
       "\n",
       "    .dataframe tbody tr th {\n",
       "        vertical-align: top;\n",
       "    }\n",
       "\n",
       "    .dataframe thead th {\n",
       "        text-align: right;\n",
       "    }\n",
       "</style>\n",
       "<table border=\"1\" class=\"dataframe\">\n",
       "  <thead>\n",
       "    <tr style=\"text-align: right;\">\n",
       "      <th></th>\n",
       "      <th>feature_idx</th>\n",
       "      <th>cv_scores</th>\n",
       "      <th>avg_score</th>\n",
       "      <th>feature_names</th>\n",
       "    </tr>\n",
       "  </thead>\n",
       "  <tbody>\n",
       "    <tr>\n",
       "      <th>4</th>\n",
       "      <td>(0, 1, 2, 3)</td>\n",
       "      <td>[0.8333333333333334, 1.0, 0.8333333333333334, ...</td>\n",
       "      <td>0.933333</td>\n",
       "      <td>(sepal length (cm), sepal width (cm), petal le...</td>\n",
       "    </tr>\n",
       "    <tr>\n",
       "      <th>3</th>\n",
       "      <td>(0, 2, 3)</td>\n",
       "      <td>[0.8333333333333334, 1.0, 0.8333333333333334, ...</td>\n",
       "      <td>0.933333</td>\n",
       "      <td>(sepal length (cm), petal length (cm), petal w...</td>\n",
       "    </tr>\n",
       "  </tbody>\n",
       "</table>\n",
       "</div>"
      ],
      "text/plain": [
       "    feature_idx                                          cv_scores avg_score  \\\n",
       "4  (0, 1, 2, 3)  [0.8333333333333334, 1.0, 0.8333333333333334, ...  0.933333   \n",
       "3     (0, 2, 3)  [0.8333333333333334, 1.0, 0.8333333333333334, ...  0.933333   \n",
       "\n",
       "                                       feature_names  \n",
       "4  (sepal length (cm), sepal width (cm), petal le...  \n",
       "3  (sepal length (cm), petal length (cm), petal w...  "
      ]
     },
     "execution_count": 46,
     "metadata": {},
     "output_type": "execute_result"
    }
   ],
   "source": [
    "knn =KNeighborsClassifier()\n",
    "parameter = {\"n_neighbors\": np.arange(2,20),\n",
    "            \"p\":[1,2]}\n",
    "gscv = GridSearchCV(knn_clf,parameter,cv = 5)\n",
    "sfs = SequentialFeatureSelector(gscv,k_features=3,forward=False,cv = 5 ,n_jobs=-1)\n",
    "sfs.fit(x_test,y_test)\n",
    "df2 = pd.DataFrame(sfs.subsets_).T\n",
    "df2"
   ]
  },
  {
   "cell_type": "code",
   "execution_count": null,
   "id": "b973a755",
   "metadata": {},
   "outputs": [],
   "source": []
  },
  {
   "cell_type": "code",
   "execution_count": 47,
   "id": "e34548ba",
   "metadata": {},
   "outputs": [],
   "source": [
    "# without feature select"
   ]
  },
  {
   "cell_type": "code",
   "execution_count": 48,
   "id": "17790615",
   "metadata": {},
   "outputs": [
    {
     "data": {
      "text/plain": [
       "KNeighborsClassifier(n_neighbors=6)"
      ]
     },
     "execution_count": 48,
     "metadata": {},
     "output_type": "execute_result"
    }
   ],
   "source": [
    "knn_clf = KNeighborsClassifier()\n",
    "parameter = {\"n_neighbors\": np.arange(2,20),\n",
    "            \"p\":[1,2]}\n",
    "gscv = GridSearchCV(knn_clf,parameter,cv = 5)\n",
    "gscv.fit(x_train,y_train)\n",
    "gscv.best_estimator_"
   ]
  },
  {
   "cell_type": "code",
   "execution_count": 49,
   "id": "eda0d72d",
   "metadata": {},
   "outputs": [
    {
     "data": {
      "text/plain": [
       "KNeighborsClassifier(n_neighbors=6)"
      ]
     },
     "execution_count": 49,
     "metadata": {},
     "output_type": "execute_result"
    }
   ],
   "source": [
    "knn_clf1 = KNeighborsClassifier(n_neighbors=6)\n",
    "knn_clf1.fit(x_train,y_train)"
   ]
  },
  {
   "cell_type": "code",
   "execution_count": 50,
   "id": "0ee5804b",
   "metadata": {},
   "outputs": [
    {
     "name": "stdout",
     "output_type": "stream",
     "text": [
      "confusion matrics\n",
      " [[40  0  0]\n",
      " [ 0 38  2]\n",
      " [ 0  2 38]]\n",
      "accuracy  0.9666666666666667\n",
      "classification report\n",
      "               precision    recall  f1-score   support\n",
      "\n",
      "           0       1.00      1.00      1.00        40\n",
      "           1       0.95      0.95      0.95        40\n",
      "           2       0.95      0.95      0.95        40\n",
      "\n",
      "    accuracy                           0.97       120\n",
      "   macro avg       0.97      0.97      0.97       120\n",
      "weighted avg       0.97      0.97      0.97       120\n",
      "\n"
     ]
    }
   ],
   "source": [
    "#training\n",
    "\n",
    "y_pred_train = knn_clf1.predict(x_train)\n",
    "\n",
    "cnf_matrics = confusion_matrix(y_train,y_pred_train)\n",
    "print(\"confusion matrics\\n\",cnf_matrics)\n",
    "\n",
    "accuracy = accuracy_score(y_train,y_pred_train)\n",
    "print(\"accuracy \",accuracy)\n",
    "\n",
    "cls_report = classification_report(y_train,y_pred_train)\n",
    "print(\"classification report\\n\",cls_report)"
   ]
  },
  {
   "cell_type": "code",
   "execution_count": 51,
   "id": "3f385c60",
   "metadata": {},
   "outputs": [
    {
     "name": "stdout",
     "output_type": "stream",
     "text": [
      "confusion matrics\n",
      " [[10  0  0]\n",
      " [ 0 10  0]\n",
      " [ 0  1  9]]\n",
      "accuracy  0.9666666666666667\n",
      "classification report\n",
      "               precision    recall  f1-score   support\n",
      "\n",
      "           0       1.00      1.00      1.00        10\n",
      "           1       0.91      1.00      0.95        10\n",
      "           2       1.00      0.90      0.95        10\n",
      "\n",
      "    accuracy                           0.97        30\n",
      "   macro avg       0.97      0.97      0.97        30\n",
      "weighted avg       0.97      0.97      0.97        30\n",
      "\n"
     ]
    }
   ],
   "source": [
    "#testing\n",
    "\n",
    "y_pred_test = knn_clf1.predict(x_test)\n",
    "\n",
    "cnf_matrics = confusion_matrix(y_test,y_pred_test)\n",
    "print(\"confusion matrics\\n\",cnf_matrics)\n",
    "\n",
    "accuracy = accuracy_score(y_test,y_pred_test)\n",
    "print(\"accuracy \",accuracy)\n",
    "\n",
    "cls_report = classification_report(y_test,y_pred_test)\n",
    "print(\"classification report\\n\",cls_report)"
   ]
  },
  {
   "cell_type": "markdown",
   "id": "94c06016",
   "metadata": {},
   "source": [
    "#### RandomizedSearchCV"
   ]
  },
  {
   "cell_type": "code",
   "execution_count": null,
   "id": "21f20eec",
   "metadata": {},
   "outputs": [],
   "source": [
    "#with feature select"
   ]
  },
  {
   "cell_type": "code",
   "execution_count": 51,
   "id": "9bdfee78",
   "metadata": {},
   "outputs": [
    {
     "data": {
      "text/html": [
       "<div>\n",
       "<style scoped>\n",
       "    .dataframe tbody tr th:only-of-type {\n",
       "        vertical-align: middle;\n",
       "    }\n",
       "\n",
       "    .dataframe tbody tr th {\n",
       "        vertical-align: top;\n",
       "    }\n",
       "\n",
       "    .dataframe thead th {\n",
       "        text-align: right;\n",
       "    }\n",
       "</style>\n",
       "<table border=\"1\" class=\"dataframe\">\n",
       "  <thead>\n",
       "    <tr style=\"text-align: right;\">\n",
       "      <th></th>\n",
       "      <th>feature_idx</th>\n",
       "      <th>cv_scores</th>\n",
       "      <th>avg_score</th>\n",
       "      <th>feature_names</th>\n",
       "    </tr>\n",
       "  </thead>\n",
       "  <tbody>\n",
       "    <tr>\n",
       "      <th>4</th>\n",
       "      <td>(0, 1, 2, 3)</td>\n",
       "      <td>[0.9583333333333334, 1.0, 0.9583333333333334, ...</td>\n",
       "      <td>0.983333</td>\n",
       "      <td>(sepal length (cm), sepal width (cm), petal le...</td>\n",
       "    </tr>\n",
       "    <tr>\n",
       "      <th>3</th>\n",
       "      <td>(1, 2, 3)</td>\n",
       "      <td>[0.9583333333333334, 1.0, 0.9583333333333334, ...</td>\n",
       "      <td>0.975</td>\n",
       "      <td>(sepal width (cm), petal length (cm), petal wi...</td>\n",
       "    </tr>\n",
       "  </tbody>\n",
       "</table>\n",
       "</div>"
      ],
      "text/plain": [
       "    feature_idx                                          cv_scores avg_score  \\\n",
       "4  (0, 1, 2, 3)  [0.9583333333333334, 1.0, 0.9583333333333334, ...  0.983333   \n",
       "3     (1, 2, 3)  [0.9583333333333334, 1.0, 0.9583333333333334, ...     0.975   \n",
       "\n",
       "                                       feature_names  \n",
       "4  (sepal length (cm), sepal width (cm), petal le...  \n",
       "3  (sepal width (cm), petal length (cm), petal wi...  "
      ]
     },
     "execution_count": 51,
     "metadata": {},
     "output_type": "execute_result"
    }
   ],
   "source": [
    "knn =KNeighborsClassifier()\n",
    "parameter = {\"n_neighbors\": np.arange(2,20),\n",
    "            \"p\":[1,2]}\n",
    "rmscv = RandomizedSearchCV(knn_clf,parameter,cv = 5)\n",
    "sfs = SequentialFeatureSelector(rmscv,k_features=3,forward=False,cv = 5 ,n_jobs=-1)\n",
    "sfs.fit(x_train,y_train)\n",
    "df2 = pd.DataFrame(sfs.subsets_).T\n",
    "df2       #select 2 then accuracy decrese"
   ]
  },
  {
   "cell_type": "code",
   "execution_count": 52,
   "id": "85919b0c",
   "metadata": {},
   "outputs": [
    {
     "data": {
      "text/html": [
       "<div>\n",
       "<style scoped>\n",
       "    .dataframe tbody tr th:only-of-type {\n",
       "        vertical-align: middle;\n",
       "    }\n",
       "\n",
       "    .dataframe tbody tr th {\n",
       "        vertical-align: top;\n",
       "    }\n",
       "\n",
       "    .dataframe thead th {\n",
       "        text-align: right;\n",
       "    }\n",
       "</style>\n",
       "<table border=\"1\" class=\"dataframe\">\n",
       "  <thead>\n",
       "    <tr style=\"text-align: right;\">\n",
       "      <th></th>\n",
       "      <th>feature_idx</th>\n",
       "      <th>cv_scores</th>\n",
       "      <th>avg_score</th>\n",
       "      <th>feature_names</th>\n",
       "    </tr>\n",
       "  </thead>\n",
       "  <tbody>\n",
       "    <tr>\n",
       "      <th>4</th>\n",
       "      <td>(0, 1, 2, 3)</td>\n",
       "      <td>[0.8333333333333334, 1.0, 0.8333333333333334, ...</td>\n",
       "      <td>0.9</td>\n",
       "      <td>(sepal length (cm), sepal width (cm), petal le...</td>\n",
       "    </tr>\n",
       "    <tr>\n",
       "      <th>3</th>\n",
       "      <td>(1, 2, 3)</td>\n",
       "      <td>[0.8333333333333334, 1.0, 0.8333333333333334, ...</td>\n",
       "      <td>0.933333</td>\n",
       "      <td>(sepal width (cm), petal length (cm), petal wi...</td>\n",
       "    </tr>\n",
       "  </tbody>\n",
       "</table>\n",
       "</div>"
      ],
      "text/plain": [
       "    feature_idx                                          cv_scores avg_score  \\\n",
       "4  (0, 1, 2, 3)  [0.8333333333333334, 1.0, 0.8333333333333334, ...       0.9   \n",
       "3     (1, 2, 3)  [0.8333333333333334, 1.0, 0.8333333333333334, ...  0.933333   \n",
       "\n",
       "                                       feature_names  \n",
       "4  (sepal length (cm), sepal width (cm), petal le...  \n",
       "3  (sepal width (cm), petal length (cm), petal wi...  "
      ]
     },
     "execution_count": 52,
     "metadata": {},
     "output_type": "execute_result"
    }
   ],
   "source": [
    "knn =KNeighborsClassifier()\n",
    "parameter = {\"n_neighbors\": np.arange(2,20),\n",
    "            \"p\":[1,2]}\n",
    "rmscv = RandomizedSearchCV(knn_clf,parameter,cv = 5)\n",
    "sfs = SequentialFeatureSelector(rmscv,k_features=3,forward=False,cv = 5 ,n_jobs=-1)\n",
    "sfs.fit(x_test,y_test)\n",
    "df2 = pd.DataFrame(sfs.subsets_).T\n",
    "df2 "
   ]
  },
  {
   "cell_type": "code",
   "execution_count": null,
   "id": "f63a968f",
   "metadata": {},
   "outputs": [],
   "source": []
  },
  {
   "cell_type": "code",
   "execution_count": 53,
   "id": "53c06e15",
   "metadata": {},
   "outputs": [],
   "source": [
    "#without select feature"
   ]
  },
  {
   "cell_type": "code",
   "execution_count": 55,
   "id": "ef819149",
   "metadata": {},
   "outputs": [
    {
     "data": {
      "text/plain": [
       "KNeighborsClassifier(n_neighbors=12, p=1)"
      ]
     },
     "execution_count": 55,
     "metadata": {},
     "output_type": "execute_result"
    }
   ],
   "source": [
    "knn_clf = KNeighborsClassifier()\n",
    "parameter = {\"n_neighbors\": np.arange(2,20),\n",
    "            \"p\":[1,2]}\n",
    "rmcv = RandomizedSearchCV(knn_clf,parameter,cv = 5)\n",
    "rmcv.fit(x_train,y_train)\n",
    "rmcv.best_estimator_"
   ]
  },
  {
   "cell_type": "code",
   "execution_count": 56,
   "id": "a14fa463",
   "metadata": {},
   "outputs": [
    {
     "data": {
      "text/plain": [
       "KNeighborsClassifier(n_neighbors=12, p=1)"
      ]
     },
     "execution_count": 56,
     "metadata": {},
     "output_type": "execute_result"
    }
   ],
   "source": [
    "knn_clf2 = KNeighborsClassifier(n_neighbors=12, p=1)\n",
    "knn_clf2.fit(x_train,y_train)"
   ]
  },
  {
   "cell_type": "code",
   "execution_count": 57,
   "id": "43981982",
   "metadata": {},
   "outputs": [
    {
     "name": "stdout",
     "output_type": "stream",
     "text": [
      "confusion matrics\n",
      " [[40  0  0]\n",
      " [ 0 38  2]\n",
      " [ 0  1 39]]\n",
      "accuracy  0.975\n",
      "classification report\n",
      "               precision    recall  f1-score   support\n",
      "\n",
      "           0       1.00      1.00      1.00        40\n",
      "           1       0.97      0.95      0.96        40\n",
      "           2       0.95      0.97      0.96        40\n",
      "\n",
      "    accuracy                           0.97       120\n",
      "   macro avg       0.98      0.97      0.97       120\n",
      "weighted avg       0.98      0.97      0.97       120\n",
      "\n"
     ]
    }
   ],
   "source": [
    "#training\n",
    "\n",
    "y_pred_train = knn_clf2.predict(x_train)\n",
    "\n",
    "cnf_matrics = confusion_matrix(y_train,y_pred_train)\n",
    "print(\"confusion matrics\\n\",cnf_matrics)\n",
    "\n",
    "accuracy = accuracy_score(y_train,y_pred_train)\n",
    "print(\"accuracy \",accuracy)\n",
    "\n",
    "cls_report = classification_report(y_train,y_pred_train)\n",
    "print(\"classification report\\n\",cls_report)"
   ]
  },
  {
   "cell_type": "code",
   "execution_count": 58,
   "id": "0ff731a9",
   "metadata": {},
   "outputs": [
    {
     "name": "stdout",
     "output_type": "stream",
     "text": [
      "confusion matrics\n",
      " [[10  0  0]\n",
      " [ 0  9  1]\n",
      " [ 0  1  9]]\n",
      "accuracy  0.9333333333333333\n",
      "classification report\n",
      "               precision    recall  f1-score   support\n",
      "\n",
      "           0       1.00      1.00      1.00        10\n",
      "           1       0.90      0.90      0.90        10\n",
      "           2       0.90      0.90      0.90        10\n",
      "\n",
      "    accuracy                           0.93        30\n",
      "   macro avg       0.93      0.93      0.93        30\n",
      "weighted avg       0.93      0.93      0.93        30\n",
      "\n"
     ]
    }
   ],
   "source": [
    "#testing\n",
    "\n",
    "y_pred_test = knn_clf2.predict(x_test)\n",
    "\n",
    "cnf_matrics = confusion_matrix(y_test,y_pred_test)\n",
    "print(\"confusion matrics\\n\",cnf_matrics)\n",
    "\n",
    "accuracy = accuracy_score(y_test,y_pred_test)\n",
    "print(\"accuracy \",accuracy)\n",
    "\n",
    "cls_report = classification_report(y_test,y_pred_test)\n",
    "print(\"classification report\\n\",cls_report)"
   ]
  },
  {
   "cell_type": "markdown",
   "id": "2b4dd57e",
   "metadata": {},
   "source": [
    "### DecisionTreeClassifier"
   ]
  },
  {
   "cell_type": "code",
   "execution_count": null,
   "id": "ed457a5d",
   "metadata": {},
   "outputs": [],
   "source": [
    "#with feature select"
   ]
  },
  {
   "cell_type": "code",
   "execution_count": 59,
   "id": "381ab31c",
   "metadata": {},
   "outputs": [
    {
     "data": {
      "text/html": [
       "<div>\n",
       "<style scoped>\n",
       "    .dataframe tbody tr th:only-of-type {\n",
       "        vertical-align: middle;\n",
       "    }\n",
       "\n",
       "    .dataframe tbody tr th {\n",
       "        vertical-align: top;\n",
       "    }\n",
       "\n",
       "    .dataframe thead th {\n",
       "        text-align: right;\n",
       "    }\n",
       "</style>\n",
       "<table border=\"1\" class=\"dataframe\">\n",
       "  <thead>\n",
       "    <tr style=\"text-align: right;\">\n",
       "      <th></th>\n",
       "      <th>feature_idx</th>\n",
       "      <th>cv_scores</th>\n",
       "      <th>avg_score</th>\n",
       "      <th>feature_names</th>\n",
       "    </tr>\n",
       "  </thead>\n",
       "  <tbody>\n",
       "    <tr>\n",
       "      <th>4</th>\n",
       "      <td>(0, 1, 2, 3)</td>\n",
       "      <td>[0.9166666666666666, 0.9583333333333334, 0.958...</td>\n",
       "      <td>0.933333</td>\n",
       "      <td>(sepal length (cm), sepal width (cm), petal le...</td>\n",
       "    </tr>\n",
       "    <tr>\n",
       "      <th>3</th>\n",
       "      <td>(0, 2, 3)</td>\n",
       "      <td>[0.9583333333333334, 0.9583333333333334, 0.958...</td>\n",
       "      <td>0.958333</td>\n",
       "      <td>(sepal length (cm), petal length (cm), petal w...</td>\n",
       "    </tr>\n",
       "  </tbody>\n",
       "</table>\n",
       "</div>"
      ],
      "text/plain": [
       "    feature_idx                                          cv_scores avg_score  \\\n",
       "4  (0, 1, 2, 3)  [0.9166666666666666, 0.9583333333333334, 0.958...  0.933333   \n",
       "3     (0, 2, 3)  [0.9583333333333334, 0.9583333333333334, 0.958...  0.958333   \n",
       "\n",
       "                                       feature_names  \n",
       "4  (sepal length (cm), sepal width (cm), petal le...  \n",
       "3  (sepal length (cm), petal length (cm), petal w...  "
      ]
     },
     "execution_count": 59,
     "metadata": {},
     "output_type": "execute_result"
    }
   ],
   "source": [
    "dt = DecisionTreeClassifier()\n",
    "sfs = SequentialFeatureSelector(dt,k_features=3,forward=False,cv = 5 ,n_jobs=-1)\n",
    "sfs.fit(x_train,y_train)\n",
    "df2 = pd.DataFrame(sfs.subsets_).T\n",
    "df2 "
   ]
  },
  {
   "cell_type": "code",
   "execution_count": 60,
   "id": "369abd4a",
   "metadata": {},
   "outputs": [
    {
     "data": {
      "text/html": [
       "<div>\n",
       "<style scoped>\n",
       "    .dataframe tbody tr th:only-of-type {\n",
       "        vertical-align: middle;\n",
       "    }\n",
       "\n",
       "    .dataframe tbody tr th {\n",
       "        vertical-align: top;\n",
       "    }\n",
       "\n",
       "    .dataframe thead th {\n",
       "        text-align: right;\n",
       "    }\n",
       "</style>\n",
       "<table border=\"1\" class=\"dataframe\">\n",
       "  <thead>\n",
       "    <tr style=\"text-align: right;\">\n",
       "      <th></th>\n",
       "      <th>feature_idx</th>\n",
       "      <th>cv_scores</th>\n",
       "      <th>avg_score</th>\n",
       "      <th>feature_names</th>\n",
       "    </tr>\n",
       "  </thead>\n",
       "  <tbody>\n",
       "    <tr>\n",
       "      <th>4</th>\n",
       "      <td>(0, 1, 2, 3)</td>\n",
       "      <td>[1.0, 1.0, 1.0, 0.8333333333333334, 0.83333333...</td>\n",
       "      <td>0.933333</td>\n",
       "      <td>(sepal length (cm), sepal width (cm), petal le...</td>\n",
       "    </tr>\n",
       "    <tr>\n",
       "      <th>3</th>\n",
       "      <td>(0, 1, 2)</td>\n",
       "      <td>[1.0, 0.8333333333333334, 1.0, 1.0, 0.83333333...</td>\n",
       "      <td>0.933333</td>\n",
       "      <td>(sepal length (cm), sepal width (cm), petal le...</td>\n",
       "    </tr>\n",
       "  </tbody>\n",
       "</table>\n",
       "</div>"
      ],
      "text/plain": [
       "    feature_idx                                          cv_scores avg_score  \\\n",
       "4  (0, 1, 2, 3)  [1.0, 1.0, 1.0, 0.8333333333333334, 0.83333333...  0.933333   \n",
       "3     (0, 1, 2)  [1.0, 0.8333333333333334, 1.0, 1.0, 0.83333333...  0.933333   \n",
       "\n",
       "                                       feature_names  \n",
       "4  (sepal length (cm), sepal width (cm), petal le...  \n",
       "3  (sepal length (cm), sepal width (cm), petal le...  "
      ]
     },
     "execution_count": 60,
     "metadata": {},
     "output_type": "execute_result"
    }
   ],
   "source": [
    "dt = DecisionTreeClassifier()\n",
    "sfs = SequentialFeatureSelector(dt,k_features=3,forward=False,cv = 5 ,n_jobs=-1)\n",
    "sfs.fit(x_test,y_test)\n",
    "df2 = pd.DataFrame(sfs.subsets_).T\n",
    "df2 "
   ]
  },
  {
   "cell_type": "code",
   "execution_count": null,
   "id": "e2e660f5",
   "metadata": {},
   "outputs": [],
   "source": []
  },
  {
   "cell_type": "code",
   "execution_count": 61,
   "id": "e3412059",
   "metadata": {},
   "outputs": [],
   "source": [
    "#without select feature"
   ]
  },
  {
   "cell_type": "code",
   "execution_count": 62,
   "id": "01e097fc",
   "metadata": {},
   "outputs": [
    {
     "data": {
      "text/plain": [
       "DecisionTreeClassifier()"
      ]
     },
     "execution_count": 62,
     "metadata": {},
     "output_type": "execute_result"
    }
   ],
   "source": [
    "dt_model = DecisionTreeClassifier()\n",
    "dt_model.fit(x_train,y_train)"
   ]
  },
  {
   "cell_type": "code",
   "execution_count": 63,
   "id": "7772b62e",
   "metadata": {},
   "outputs": [
    {
     "name": "stdout",
     "output_type": "stream",
     "text": [
      "confusion matrics\n",
      " [[40  0  0]\n",
      " [ 0 40  0]\n",
      " [ 0  0 40]]\n",
      "accuracy  1.0\n",
      "classification report\n",
      "               precision    recall  f1-score   support\n",
      "\n",
      "           0       1.00      1.00      1.00        40\n",
      "           1       1.00      1.00      1.00        40\n",
      "           2       1.00      1.00      1.00        40\n",
      "\n",
      "    accuracy                           1.00       120\n",
      "   macro avg       1.00      1.00      1.00       120\n",
      "weighted avg       1.00      1.00      1.00       120\n",
      "\n"
     ]
    }
   ],
   "source": [
    "#training\n",
    "\n",
    "y_pred_train = dt_model.predict(x_train)\n",
    "\n",
    "cnf_matrics = confusion_matrix(y_train,y_pred_train)\n",
    "print(\"confusion matrics\\n\",cnf_matrics)\n",
    "\n",
    "accuracy = accuracy_score(y_train,y_pred_train)\n",
    "print(\"accuracy \",accuracy)\n",
    "\n",
    "cls_report = classification_report(y_train,y_pred_train)\n",
    "print(\"classification report\\n\",cls_report)"
   ]
  },
  {
   "cell_type": "code",
   "execution_count": 64,
   "id": "23fd07c3",
   "metadata": {},
   "outputs": [
    {
     "name": "stdout",
     "output_type": "stream",
     "text": [
      "confusion matrics\n",
      " [[10  0  0]\n",
      " [ 0  9  1]\n",
      " [ 0  0 10]]\n",
      "accuracy  0.9666666666666667\n",
      "classification report\n",
      "               precision    recall  f1-score   support\n",
      "\n",
      "           0       1.00      1.00      1.00        10\n",
      "           1       1.00      0.90      0.95        10\n",
      "           2       0.91      1.00      0.95        10\n",
      "\n",
      "    accuracy                           0.97        30\n",
      "   macro avg       0.97      0.97      0.97        30\n",
      "weighted avg       0.97      0.97      0.97        30\n",
      "\n"
     ]
    }
   ],
   "source": [
    "#testing\n",
    "\n",
    "y_pred_test = dt_model.predict(x_test)\n",
    "\n",
    "cnf_matrics = confusion_matrix(y_test,y_pred_test)\n",
    "print(\"confusion matrics\\n\",cnf_matrics)\n",
    "\n",
    "accuracy = accuracy_score(y_test,y_pred_test)\n",
    "print(\"accuracy \",accuracy)\n",
    "\n",
    "cls_report = classification_report(y_test,y_pred_test)\n",
    "print(\"classification report\\n\",cls_report)"
   ]
  },
  {
   "cell_type": "markdown",
   "id": "f24735f3",
   "metadata": {},
   "source": [
    "### Hyperparameter Tuning"
   ]
  },
  {
   "cell_type": "markdown",
   "id": "d13391f6",
   "metadata": {},
   "source": [
    "### GridSearchCV"
   ]
  },
  {
   "cell_type": "code",
   "execution_count": null,
   "id": "e849e7d0",
   "metadata": {},
   "outputs": [],
   "source": [
    "#with feature select"
   ]
  },
  {
   "cell_type": "code",
   "execution_count": 65,
   "id": "403335b2",
   "metadata": {},
   "outputs": [
    {
     "data": {
      "text/html": [
       "<div>\n",
       "<style scoped>\n",
       "    .dataframe tbody tr th:only-of-type {\n",
       "        vertical-align: middle;\n",
       "    }\n",
       "\n",
       "    .dataframe tbody tr th {\n",
       "        vertical-align: top;\n",
       "    }\n",
       "\n",
       "    .dataframe thead th {\n",
       "        text-align: right;\n",
       "    }\n",
       "</style>\n",
       "<table border=\"1\" class=\"dataframe\">\n",
       "  <thead>\n",
       "    <tr style=\"text-align: right;\">\n",
       "      <th></th>\n",
       "      <th>feature_idx</th>\n",
       "      <th>cv_scores</th>\n",
       "      <th>avg_score</th>\n",
       "      <th>feature_names</th>\n",
       "    </tr>\n",
       "  </thead>\n",
       "  <tbody>\n",
       "    <tr>\n",
       "      <th>1</th>\n",
       "      <td>(0,)</td>\n",
       "      <td>[nan, nan, nan, nan, nan]</td>\n",
       "      <td>NaN</td>\n",
       "      <td>(sepal length (cm),)</td>\n",
       "    </tr>\n",
       "    <tr>\n",
       "      <th>2</th>\n",
       "      <td>(0, 1)</td>\n",
       "      <td>[nan, nan, nan, nan, nan]</td>\n",
       "      <td>NaN</td>\n",
       "      <td>(sepal length (cm), sepal width (cm))</td>\n",
       "    </tr>\n",
       "    <tr>\n",
       "      <th>3</th>\n",
       "      <td>(0, 1, 2)</td>\n",
       "      <td>[nan, nan, nan, nan, nan]</td>\n",
       "      <td>NaN</td>\n",
       "      <td>(sepal length (cm), sepal width (cm), petal le...</td>\n",
       "    </tr>\n",
       "  </tbody>\n",
       "</table>\n",
       "</div>"
      ],
      "text/plain": [
       "  feature_idx                  cv_scores avg_score  \\\n",
       "1        (0,)  [nan, nan, nan, nan, nan]       NaN   \n",
       "2      (0, 1)  [nan, nan, nan, nan, nan]       NaN   \n",
       "3   (0, 1, 2)  [nan, nan, nan, nan, nan]       NaN   \n",
       "\n",
       "                                       feature_names  \n",
       "1                               (sepal length (cm),)  \n",
       "2              (sepal length (cm), sepal width (cm))  \n",
       "3  (sepal length (cm), sepal width (cm), petal le...  "
      ]
     },
     "execution_count": 65,
     "metadata": {},
     "output_type": "execute_result"
    }
   ],
   "source": [
    "dt_gs = DecisionTreeClassifier()\n",
    "parameter = {\"n_neighbors\": np.arange(2,20),\n",
    "            \"p\":[1,2]}\n",
    "dt_gscv = GridSearchCV(dt_gs,parameter,cv = 5)\n",
    "sfs = SequentialFeatureSelector(dt_gscv,k_features =3,forward=True,cv = 5 ,n_jobs=-1)\n",
    "sfs.fit(x_train,y_train)\n",
    "df2 = pd.DataFrame(sfs.subsets_).T\n",
    "df2"
   ]
  },
  {
   "cell_type": "code",
   "execution_count": null,
   "id": "1ded89e6",
   "metadata": {},
   "outputs": [],
   "source": []
  },
  {
   "cell_type": "code",
   "execution_count": 66,
   "id": "724df1a8",
   "metadata": {},
   "outputs": [],
   "source": [
    "# without feature select"
   ]
  },
  {
   "cell_type": "code",
   "execution_count": 67,
   "id": "afed443c",
   "metadata": {},
   "outputs": [
    {
     "data": {
      "text/plain": [
       "DecisionTreeClassifier(criterion='entropy', max_depth=4, min_samples_leaf=4,\n",
       "                       min_samples_split=4)"
      ]
     },
     "execution_count": 67,
     "metadata": {},
     "output_type": "execute_result"
    }
   ],
   "source": [
    "dt_clf = DecisionTreeClassifier()\n",
    "parameter = {\"criterion\" : [\"gini\", \"entropy\"],\n",
    "            \"max_depth\" : np.arange(3,10),\n",
    "    \"min_samples_split\" : np.arange(3,20),\n",
    "    \"min_samples_leaf\" : np.arange(3,20)}\n",
    "gscv = GridSearchCV(dt_clf,parameter,cv = 5)\n",
    "gscv.fit(x_train,y_train)\n",
    "gscv.best_estimator_"
   ]
  },
  {
   "cell_type": "code",
   "execution_count": 69,
   "id": "e08d3afc",
   "metadata": {},
   "outputs": [
    {
     "data": {
      "text/plain": [
       "DecisionTreeClassifier(criterion='entropy', max_depth=4, min_samples_leaf=4,\n",
       "                       min_samples_split=4)"
      ]
     },
     "execution_count": 69,
     "metadata": {},
     "output_type": "execute_result"
    }
   ],
   "source": [
    "dt_model1 = DecisionTreeClassifier(criterion='entropy', max_depth=4, min_samples_leaf=4,\n",
    "                       min_samples_split=4)\n",
    "dt_model1.fit(x_train,y_train)"
   ]
  },
  {
   "cell_type": "code",
   "execution_count": 70,
   "id": "3717c185",
   "metadata": {},
   "outputs": [
    {
     "name": "stdout",
     "output_type": "stream",
     "text": [
      "confusion matrics\n",
      " [[40  0  0]\n",
      " [ 0 38  2]\n",
      " [ 0  0 40]]\n",
      "accuracy  0.9833333333333333\n",
      "classification report\n",
      "               precision    recall  f1-score   support\n",
      "\n",
      "           0       1.00      1.00      1.00        40\n",
      "           1       1.00      0.95      0.97        40\n",
      "           2       0.95      1.00      0.98        40\n",
      "\n",
      "    accuracy                           0.98       120\n",
      "   macro avg       0.98      0.98      0.98       120\n",
      "weighted avg       0.98      0.98      0.98       120\n",
      "\n"
     ]
    }
   ],
   "source": [
    "#training\n",
    "\n",
    "y_pred_train = dt_model1.predict(x_train)\n",
    "\n",
    "cnf_matrics = confusion_matrix(y_train,y_pred_train)\n",
    "print(\"confusion matrics\\n\",cnf_matrics)\n",
    "\n",
    "accuracy = accuracy_score(y_train,y_pred_train)\n",
    "print(\"accuracy \",accuracy)\n",
    "\n",
    "cls_report = classification_report(y_train,y_pred_train)\n",
    "print(\"classification report\\n\",cls_report)"
   ]
  },
  {
   "cell_type": "code",
   "execution_count": 71,
   "id": "0040dc9e",
   "metadata": {},
   "outputs": [
    {
     "name": "stdout",
     "output_type": "stream",
     "text": [
      "confusion matrics\n",
      " [[10  0  0]\n",
      " [ 0  9  1]\n",
      " [ 0  0 10]]\n",
      "accuracy  0.9666666666666667\n",
      "classification report\n",
      "               precision    recall  f1-score   support\n",
      "\n",
      "           0       1.00      1.00      1.00        10\n",
      "           1       1.00      0.90      0.95        10\n",
      "           2       0.91      1.00      0.95        10\n",
      "\n",
      "    accuracy                           0.97        30\n",
      "   macro avg       0.97      0.97      0.97        30\n",
      "weighted avg       0.97      0.97      0.97        30\n",
      "\n"
     ]
    }
   ],
   "source": [
    "#testing\n",
    "\n",
    "y_pred_test = dt_model1.predict(x_test)\n",
    "\n",
    "cnf_matrics = confusion_matrix(y_test,y_pred_test)\n",
    "print(\"confusion matrics\\n\",cnf_matrics)\n",
    "\n",
    "accuracy = accuracy_score(y_test,y_pred_test)\n",
    "print(\"accuracy \",accuracy)\n",
    "\n",
    "cls_report = classification_report(y_test,y_pred_test)\n",
    "print(\"classification report\\n\",cls_report)"
   ]
  },
  {
   "cell_type": "markdown",
   "id": "624c972c",
   "metadata": {},
   "source": [
    "#### RandomizedSearchCV"
   ]
  },
  {
   "cell_type": "code",
   "execution_count": null,
   "id": "8b3fc0a4",
   "metadata": {},
   "outputs": [],
   "source": [
    "#with feature select"
   ]
  },
  {
   "cell_type": "code",
   "execution_count": 73,
   "id": "299e89ce",
   "metadata": {},
   "outputs": [
    {
     "data": {
      "text/html": [
       "<div>\n",
       "<style scoped>\n",
       "    .dataframe tbody tr th:only-of-type {\n",
       "        vertical-align: middle;\n",
       "    }\n",
       "\n",
       "    .dataframe tbody tr th {\n",
       "        vertical-align: top;\n",
       "    }\n",
       "\n",
       "    .dataframe thead th {\n",
       "        text-align: right;\n",
       "    }\n",
       "</style>\n",
       "<table border=\"1\" class=\"dataframe\">\n",
       "  <thead>\n",
       "    <tr style=\"text-align: right;\">\n",
       "      <th></th>\n",
       "      <th>feature_idx</th>\n",
       "      <th>cv_scores</th>\n",
       "      <th>avg_score</th>\n",
       "      <th>feature_names</th>\n",
       "    </tr>\n",
       "  </thead>\n",
       "  <tbody>\n",
       "    <tr>\n",
       "      <th>1</th>\n",
       "      <td>(0,)</td>\n",
       "      <td>[nan, nan, nan, nan, nan]</td>\n",
       "      <td>NaN</td>\n",
       "      <td>(sepal length (cm),)</td>\n",
       "    </tr>\n",
       "    <tr>\n",
       "      <th>2</th>\n",
       "      <td>(0, 1)</td>\n",
       "      <td>[nan, nan, nan, nan, nan]</td>\n",
       "      <td>NaN</td>\n",
       "      <td>(sepal length (cm), sepal width (cm))</td>\n",
       "    </tr>\n",
       "    <tr>\n",
       "      <th>3</th>\n",
       "      <td>(0, 1, 2)</td>\n",
       "      <td>[nan, nan, nan, nan, nan]</td>\n",
       "      <td>NaN</td>\n",
       "      <td>(sepal length (cm), sepal width (cm), petal le...</td>\n",
       "    </tr>\n",
       "  </tbody>\n",
       "</table>\n",
       "</div>"
      ],
      "text/plain": [
       "  feature_idx                  cv_scores avg_score  \\\n",
       "1        (0,)  [nan, nan, nan, nan, nan]       NaN   \n",
       "2      (0, 1)  [nan, nan, nan, nan, nan]       NaN   \n",
       "3   (0, 1, 2)  [nan, nan, nan, nan, nan]       NaN   \n",
       "\n",
       "                                       feature_names  \n",
       "1                               (sepal length (cm),)  \n",
       "2              (sepal length (cm), sepal width (cm))  \n",
       "3  (sepal length (cm), sepal width (cm), petal le...  "
      ]
     },
     "execution_count": 73,
     "metadata": {},
     "output_type": "execute_result"
    }
   ],
   "source": [
    "dt_rs = DecisionTreeClassifier()\n",
    "parameter = {\"n_neighbors\": np.arange(2,20),\n",
    "            \"p\":[1,2]}\n",
    "dt_rmcv = RandomizedSearchCV(dt_rs,parameter,cv = 5)\n",
    "sfs = SequentialFeatureSelector(dt_rmcv,k_features =3,forward=True,cv = 5 ,n_jobs=-1)\n",
    "sfs.fit(x_train,y_train)\n",
    "df2 = pd.DataFrame(sfs.subsets_).T\n",
    "df2"
   ]
  },
  {
   "cell_type": "code",
   "execution_count": null,
   "id": "43b6bccb",
   "metadata": {},
   "outputs": [],
   "source": [
    "#without feature selection"
   ]
  },
  {
   "cell_type": "code",
   "execution_count": 81,
   "id": "129530a7",
   "metadata": {},
   "outputs": [
    {
     "data": {
      "text/plain": [
       "DecisionTreeClassifier(max_depth=3, min_samples_leaf=4, min_samples_split=11)"
      ]
     },
     "execution_count": 81,
     "metadata": {},
     "output_type": "execute_result"
    }
   ],
   "source": [
    "dt_clf = DecisionTreeClassifier()\n",
    "parameter = {\"criterion\" : [\"gini\", \"entropy\"],\n",
    "            \"max_depth\" : np.arange(3,10),\n",
    "    \"min_samples_split\" : np.arange(3,20),\n",
    "    \"min_samples_leaf\" : np.arange(3,20)}\n",
    "rmcv = RandomizedSearchCV(dt_clf,parameter,cv = 5)\n",
    "rmcv.fit(x_train,y_train)\n",
    "rmcv.best_estimator_"
   ]
  },
  {
   "cell_type": "code",
   "execution_count": 82,
   "id": "0dad7a16",
   "metadata": {},
   "outputs": [
    {
     "data": {
      "text/plain": [
       "DecisionTreeClassifier(max_depth=3, min_samples_leaf=4, min_samples_split=11)"
      ]
     },
     "execution_count": 82,
     "metadata": {},
     "output_type": "execute_result"
    }
   ],
   "source": [
    "dt_model2 = DecisionTreeClassifier(max_depth=3, min_samples_leaf=4, min_samples_split=11)\n",
    "dt_model2.fit(x_train,y_train)"
   ]
  },
  {
   "cell_type": "code",
   "execution_count": 83,
   "id": "ae0a6ef2",
   "metadata": {},
   "outputs": [
    {
     "name": "stdout",
     "output_type": "stream",
     "text": [
      "confusion matrics\n",
      " [[40  0  0]\n",
      " [ 0 38  2]\n",
      " [ 0  0 40]]\n",
      "accuracy  0.9833333333333333\n",
      "classification report\n",
      "               precision    recall  f1-score   support\n",
      "\n",
      "           0       1.00      1.00      1.00        40\n",
      "           1       1.00      0.95      0.97        40\n",
      "           2       0.95      1.00      0.98        40\n",
      "\n",
      "    accuracy                           0.98       120\n",
      "   macro avg       0.98      0.98      0.98       120\n",
      "weighted avg       0.98      0.98      0.98       120\n",
      "\n"
     ]
    }
   ],
   "source": [
    "#training\n",
    "\n",
    "y_pred_train = dt_model2.predict(x_train)\n",
    "\n",
    "cnf_matrics = confusion_matrix(y_train,y_pred_train)\n",
    "print(\"confusion matrics\\n\",cnf_matrics)\n",
    "\n",
    "accuracy = accuracy_score(y_train,y_pred_train)\n",
    "print(\"accuracy \",accuracy)\n",
    "\n",
    "cls_report = classification_report(y_train,y_pred_train)\n",
    "print(\"classification report\\n\",cls_report)"
   ]
  },
  {
   "cell_type": "code",
   "execution_count": 84,
   "id": "433078e2",
   "metadata": {},
   "outputs": [
    {
     "name": "stdout",
     "output_type": "stream",
     "text": [
      "confusion matrics\n",
      " [[10  0  0]\n",
      " [ 0  9  1]\n",
      " [ 0  0 10]]\n",
      "accuracy  0.9666666666666667\n",
      "classification report\n",
      "               precision    recall  f1-score   support\n",
      "\n",
      "           0       1.00      1.00      1.00        10\n",
      "           1       1.00      0.90      0.95        10\n",
      "           2       0.91      1.00      0.95        10\n",
      "\n",
      "    accuracy                           0.97        30\n",
      "   macro avg       0.97      0.97      0.97        30\n",
      "weighted avg       0.97      0.97      0.97        30\n",
      "\n"
     ]
    }
   ],
   "source": [
    "#testing\n",
    "\n",
    "y_pred_test = dt_model2.predict(x_test)\n",
    "\n",
    "cnf_matrics = confusion_matrix(y_test,y_pred_test)\n",
    "print(\"confusion matrics\\n\",cnf_matrics)\n",
    "\n",
    "accuracy = accuracy_score(y_test,y_pred_test)\n",
    "print(\"accuracy \",accuracy)\n",
    "\n",
    "cls_report = classification_report(y_test,y_pred_test)\n",
    "print(\"classification report\\n\",cls_report)"
   ]
  },
  {
   "cell_type": "markdown",
   "id": "7f30699b",
   "metadata": {},
   "source": [
    "## Post Purning"
   ]
  },
  {
   "cell_type": "code",
   "execution_count": 91,
   "id": "85288a2e",
   "metadata": {},
   "outputs": [
    {
     "data": {
      "text/plain": [
       "DecisionTreeClassifier()"
      ]
     },
     "execution_count": 91,
     "metadata": {},
     "output_type": "execute_result"
    }
   ],
   "source": [
    "dt_modl = DecisionTreeClassifier()\n",
    "dt_model.fit(x_train,y_train)"
   ]
  },
  {
   "cell_type": "code",
   "execution_count": 93,
   "id": "33e2f1be",
   "metadata": {},
   "outputs": [
    {
     "data": {
      "text/plain": [
       "array([0.        , 0.00625   , 0.00811404, 0.03392857, 0.27067669,\n",
       "       0.33333333])"
      ]
     },
     "execution_count": 93,
     "metadata": {},
     "output_type": "execute_result"
    }
   ],
   "source": [
    "dic = dt_model.cost_complexity_pruning_path(x_train,y_train)\n",
    "ccp_alpha_list = dic[\"ccp_alphas\"]\n",
    "ccp_alpha_list"
   ]
  },
  {
   "cell_type": "code",
   "execution_count": 95,
   "id": "4c34bce1",
   "metadata": {},
   "outputs": [],
   "source": [
    "train_list = []\n",
    "test_list = []\n",
    "for ccp_alpha_v in ccp_alpha_list:\n",
    "    dt_model = DecisionTreeClassifier(random_state=42,ccp_alpha=ccp_alpha_v)\n",
    "    dt_model.fit(x_train,y_train)\n",
    "    \n",
    "    train_list.append(dt_model.score(x_train,y_train))\n",
    "    test_list.append(dt_model.score(x_test,y_test))\n",
    "    \n",
    "# train_list"
   ]
  },
  {
   "cell_type": "code",
   "execution_count": 96,
   "id": "992d7221",
   "metadata": {},
   "outputs": [
    {
     "data": {
      "text/plain": [
       "(array([1, 2], dtype=int64),)"
      ]
     },
     "execution_count": 96,
     "metadata": {},
     "output_type": "execute_result"
    }
   ],
   "source": [
    "np.where(test_list == np.max(test_list))"
   ]
  },
  {
   "cell_type": "code",
   "execution_count": 103,
   "id": "a2c290c5",
   "metadata": {},
   "outputs": [
    {
     "data": {
      "text/plain": [
       "DecisionTreeClassifier(ccp_alpha=0.00625, random_state=42)"
      ]
     },
     "execution_count": 103,
     "metadata": {},
     "output_type": "execute_result"
    }
   ],
   "source": [
    "dt_purning = DecisionTreeClassifier(random_state=42,ccp_alpha=ccp_alpha_list[1])\n",
    "dt_purning.fit(x_train,y_train)"
   ]
  },
  {
   "cell_type": "code",
   "execution_count": 104,
   "id": "27e0202f",
   "metadata": {},
   "outputs": [
    {
     "name": "stdout",
     "output_type": "stream",
     "text": [
      "confusion matrics\n",
      " [[40  0  0]\n",
      " [ 0 39  1]\n",
      " [ 0  0 40]]\n",
      "accuracy  0.9916666666666667\n",
      "classification report\n",
      "               precision    recall  f1-score   support\n",
      "\n",
      "           0       1.00      1.00      1.00        40\n",
      "           1       1.00      0.97      0.99        40\n",
      "           2       0.98      1.00      0.99        40\n",
      "\n",
      "    accuracy                           0.99       120\n",
      "   macro avg       0.99      0.99      0.99       120\n",
      "weighted avg       0.99      0.99      0.99       120\n",
      "\n"
     ]
    }
   ],
   "source": [
    "#training\n",
    "\n",
    "y_pred_train = dt_purning.predict(x_train)\n",
    "\n",
    "cnf_matrics = confusion_matrix(y_train,y_pred_train)\n",
    "print(\"confusion matrics\\n\",cnf_matrics)\n",
    "\n",
    "accuracy = accuracy_score(y_train,y_pred_train)\n",
    "print(\"accuracy \",accuracy)\n",
    "\n",
    "cls_report = classification_report(y_train,y_pred_train)\n",
    "print(\"classification report\\n\",cls_report)"
   ]
  },
  {
   "cell_type": "code",
   "execution_count": 105,
   "id": "ef71d53a",
   "metadata": {},
   "outputs": [
    {
     "name": "stdout",
     "output_type": "stream",
     "text": [
      "confusion matrics\n",
      " [[10  0  0]\n",
      " [ 0  9  1]\n",
      " [ 0  0 10]]\n",
      "accuracy  0.9666666666666667\n",
      "classification report\n",
      "               precision    recall  f1-score   support\n",
      "\n",
      "           0       1.00      1.00      1.00        10\n",
      "           1       1.00      0.90      0.95        10\n",
      "           2       0.91      1.00      0.95        10\n",
      "\n",
      "    accuracy                           0.97        30\n",
      "   macro avg       0.97      0.97      0.97        30\n",
      "weighted avg       0.97      0.97      0.97        30\n",
      "\n"
     ]
    }
   ],
   "source": [
    "#testing\n",
    "\n",
    "y_pred_test =dt_purning.predict(x_test)\n",
    "\n",
    "cnf_matrics = confusion_matrix(y_test,y_pred_test)\n",
    "print(\"confusion matrics\\n\",cnf_matrics)\n",
    "\n",
    "accuracy = accuracy_score(y_test,y_pred_test)\n",
    "print(\"accuracy \",accuracy)\n",
    "\n",
    "cls_report = classification_report(y_test,y_pred_test)\n",
    "print(\"classification report\\n\",cls_report)"
   ]
  },
  {
   "cell_type": "markdown",
   "id": "073f83a1",
   "metadata": {},
   "source": [
    "### RandomForestClassifier"
   ]
  },
  {
   "cell_type": "code",
   "execution_count": null,
   "id": "6c27ae44",
   "metadata": {},
   "outputs": [],
   "source": [
    "#without feature selection"
   ]
  },
  {
   "cell_type": "code",
   "execution_count": 106,
   "id": "4d557c43",
   "metadata": {},
   "outputs": [
    {
     "data": {
      "text/plain": [
       "RandomForestClassifier()"
      ]
     },
     "execution_count": 106,
     "metadata": {},
     "output_type": "execute_result"
    }
   ],
   "source": [
    "rf_clf = RandomForestClassifier()\n",
    "rf_clf.fit(x_train,y_train)"
   ]
  },
  {
   "cell_type": "code",
   "execution_count": 107,
   "id": "b292c88f",
   "metadata": {},
   "outputs": [
    {
     "name": "stdout",
     "output_type": "stream",
     "text": [
      "confusion matrics\n",
      " [[40  0  0]\n",
      " [ 0 40  0]\n",
      " [ 0  0 40]]\n",
      "accuracy  1.0\n",
      "classification report\n",
      "               precision    recall  f1-score   support\n",
      "\n",
      "           0       1.00      1.00      1.00        40\n",
      "           1       1.00      1.00      1.00        40\n",
      "           2       1.00      1.00      1.00        40\n",
      "\n",
      "    accuracy                           1.00       120\n",
      "   macro avg       1.00      1.00      1.00       120\n",
      "weighted avg       1.00      1.00      1.00       120\n",
      "\n"
     ]
    }
   ],
   "source": [
    "#training\n",
    "\n",
    "y_pred_train = rf_clf.predict(x_train)\n",
    "\n",
    "cnf_matrics = confusion_matrix(y_train,y_pred_train)\n",
    "print(\"confusion matrics\\n\",cnf_matrics)\n",
    "\n",
    "accuracy = accuracy_score(y_train,y_pred_train)\n",
    "print(\"accuracy \",accuracy)\n",
    "\n",
    "cls_report = classification_report(y_train,y_pred_train)\n",
    "print(\"classification report\\n\",cls_report)"
   ]
  },
  {
   "cell_type": "code",
   "execution_count": 108,
   "id": "816045a9",
   "metadata": {},
   "outputs": [
    {
     "name": "stdout",
     "output_type": "stream",
     "text": [
      "confusion matrics\n",
      " [[10  0  0]\n",
      " [ 0  9  1]\n",
      " [ 0  1  9]]\n",
      "accuracy  0.9333333333333333\n",
      "classification report\n",
      "               precision    recall  f1-score   support\n",
      "\n",
      "           0       1.00      1.00      1.00        10\n",
      "           1       0.90      0.90      0.90        10\n",
      "           2       0.90      0.90      0.90        10\n",
      "\n",
      "    accuracy                           0.93        30\n",
      "   macro avg       0.93      0.93      0.93        30\n",
      "weighted avg       0.93      0.93      0.93        30\n",
      "\n"
     ]
    }
   ],
   "source": [
    "#testing\n",
    "\n",
    "y_pred_test =rf_clf.predict(x_test)\n",
    "\n",
    "cnf_matrics = confusion_matrix(y_test,y_pred_test)\n",
    "print(\"confusion matrics\\n\",cnf_matrics)\n",
    "\n",
    "accuracy = accuracy_score(y_test,y_pred_test)\n",
    "print(\"accuracy \",accuracy)\n",
    "\n",
    "cls_report = classification_report(y_test,y_pred_test)\n",
    "print(\"classification report\\n\",cls_report)"
   ]
  },
  {
   "cell_type": "code",
   "execution_count": null,
   "id": "4d2ea938",
   "metadata": {},
   "outputs": [],
   "source": [
    "#with feature select"
   ]
  },
  {
   "cell_type": "code",
   "execution_count": 76,
   "id": "86800905",
   "metadata": {},
   "outputs": [
    {
     "data": {
      "text/html": [
       "<div>\n",
       "<style scoped>\n",
       "    .dataframe tbody tr th:only-of-type {\n",
       "        vertical-align: middle;\n",
       "    }\n",
       "\n",
       "    .dataframe tbody tr th {\n",
       "        vertical-align: top;\n",
       "    }\n",
       "\n",
       "    .dataframe thead th {\n",
       "        text-align: right;\n",
       "    }\n",
       "</style>\n",
       "<table border=\"1\" class=\"dataframe\">\n",
       "  <thead>\n",
       "    <tr style=\"text-align: right;\">\n",
       "      <th></th>\n",
       "      <th>feature_idx</th>\n",
       "      <th>cv_scores</th>\n",
       "      <th>avg_score</th>\n",
       "      <th>feature_names</th>\n",
       "    </tr>\n",
       "  </thead>\n",
       "  <tbody>\n",
       "    <tr>\n",
       "      <th>1</th>\n",
       "      <td>(3,)</td>\n",
       "      <td>[0.9583333333333334, 0.9583333333333334, 1.0, ...</td>\n",
       "      <td>0.966667</td>\n",
       "      <td>(petal width (cm),)</td>\n",
       "    </tr>\n",
       "    <tr>\n",
       "      <th>2</th>\n",
       "      <td>(2, 3)</td>\n",
       "      <td>[0.9583333333333334, 0.9583333333333334, 0.958...</td>\n",
       "      <td>0.95</td>\n",
       "      <td>(petal length (cm), petal width (cm))</td>\n",
       "    </tr>\n",
       "    <tr>\n",
       "      <th>3</th>\n",
       "      <td>(1, 2, 3)</td>\n",
       "      <td>[0.9583333333333334, 0.9583333333333334, 0.958...</td>\n",
       "      <td>0.966667</td>\n",
       "      <td>(sepal width (cm), petal length (cm), petal wi...</td>\n",
       "    </tr>\n",
       "  </tbody>\n",
       "</table>\n",
       "</div>"
      ],
      "text/plain": [
       "  feature_idx                                          cv_scores avg_score  \\\n",
       "1        (3,)  [0.9583333333333334, 0.9583333333333334, 1.0, ...  0.966667   \n",
       "2      (2, 3)  [0.9583333333333334, 0.9583333333333334, 0.958...      0.95   \n",
       "3   (1, 2, 3)  [0.9583333333333334, 0.9583333333333334, 0.958...  0.966667   \n",
       "\n",
       "                                       feature_names  \n",
       "1                                (petal width (cm),)  \n",
       "2              (petal length (cm), petal width (cm))  \n",
       "3  (sepal width (cm), petal length (cm), petal wi...  "
      ]
     },
     "execution_count": 76,
     "metadata": {},
     "output_type": "execute_result"
    }
   ],
   "source": [
    "rf = RandomForestClassifier()\n",
    "sfs = SequentialFeatureSelector(rf,k_features=3,forward=True,cv = 5,n_jobs=-1)\n",
    "sfs.fit(x_train,y_train)\n",
    "df3 = pd.DataFrame(sfs.subsets_).T\n",
    "df3"
   ]
  },
  {
   "cell_type": "code",
   "execution_count": null,
   "id": "8c3b6693",
   "metadata": {},
   "outputs": [],
   "source": []
  },
  {
   "cell_type": "code",
   "execution_count": null,
   "id": "d1bbda6d",
   "metadata": {},
   "outputs": [],
   "source": []
  },
  {
   "cell_type": "markdown",
   "id": "e130c214",
   "metadata": {},
   "source": [
    "### Hyperparameter tuning"
   ]
  },
  {
   "cell_type": "markdown",
   "id": "ff87c883",
   "metadata": {},
   "source": [
    "### GridSearchCV"
   ]
  },
  {
   "cell_type": "code",
   "execution_count": null,
   "id": "941de393",
   "metadata": {},
   "outputs": [],
   "source": [
    "rf_clf = RandomForestClassifier()\n",
    "parameter = {\"n_estimators\":np.arange(10,20),\n",
    "                 \"criterion\":[\"gini\",\"entropy\"],\n",
    "                 \"max_depth\" :np.arange(4,10),\n",
    "                 \"min_samples_split\":np.arange(3,10),\n",
    "                 \"min_samples_leaf\":np.arange(3,10),\n",
    "                 \"max_features\":[\"sqrt\", \"log2\"],\n",
    "                 \"random_state\":[41,42,43,44,45],\n",
    "                \"oob_score\":[True]}\n",
    "gscv = GridSearchCV(rf_clf,parameter,cv = 5) \n",
    "gscv.fit(x_train,y_train)\n",
    "gscv.best_estimator_"
   ]
  },
  {
   "cell_type": "code",
   "execution_count": null,
   "id": "0f0aa61a",
   "metadata": {},
   "outputs": [],
   "source": [
    "rf_clf1 = RandomForestClassifier()\n",
    "rf_clf1.fit(x_train,y_train)"
   ]
  },
  {
   "cell_type": "code",
   "execution_count": null,
   "id": "db0422d8",
   "metadata": {},
   "outputs": [],
   "source": [
    "#training\n",
    "\n",
    "y_pred_train = rf_clf1.predict(x_train)\n",
    "\n",
    "cnf_matrics = confusion_matrix(y_train,y_pred_train)\n",
    "print(\"confusion matrics\\n\",cnf_matrics)\n",
    "\n",
    "accuracy = accuracy_score(y_train,y_pred_train)\n",
    "print(\"accuracy \",accuracy)\n",
    "\n",
    "cls_report = classification_report(y_train,y_pred_train)\n",
    "print(\"classification report\\n\",cls_report)"
   ]
  },
  {
   "cell_type": "code",
   "execution_count": null,
   "id": "4e11fc7c",
   "metadata": {},
   "outputs": [],
   "source": [
    "#testing\n",
    "\n",
    "y_pred_test =rf_clf1.predict(x_test)\n",
    "\n",
    "cnf_matrics = confusion_matrix(y_test,y_pred_test)\n",
    "print(\"confusion matrics\\n\",cnf_matrics)\n",
    "\n",
    "accuracy = accuracy_score(y_test,y_pred_test)\n",
    "print(\"accuracy \",accuracy)\n",
    "\n",
    "cls_report = classification_report(y_test,y_pred_test)\n",
    "print(\"classification report\\n\",cls_report)"
   ]
  },
  {
   "cell_type": "markdown",
   "id": "a0ebf636",
   "metadata": {},
   "source": [
    "#### RandomizedSearchCV"
   ]
  },
  {
   "cell_type": "code",
   "execution_count": 116,
   "id": "6528959d",
   "metadata": {},
   "outputs": [
    {
     "data": {
      "text/plain": [
       "RandomForestClassifier(max_depth=5, max_features='log2', min_samples_leaf=3,\n",
       "                       min_samples_split=4, n_estimators=11, oob_score=True,\n",
       "                       random_state=42)"
      ]
     },
     "execution_count": 116,
     "metadata": {},
     "output_type": "execute_result"
    }
   ],
   "source": [
    "rf_clf = RandomForestClassifier()\n",
    "parameter = {\"n_estimators\":np.arange(10,20),\n",
    "                \"criterion\":[\"gini\",\"entropy\"],\n",
    "                \"max_depth\" :np.arange(4,10),\n",
    "                \"min_samples_split\":np.arange(3,10),\n",
    "                \"min_samples_leaf\":np.arange(3,10),\n",
    "                \"max_features\":[\"sqrt\", \"log2\"],\n",
    "                \"random_state\":[41,42,43,44,45],\n",
    "                \"oob_score\":[True]}\n",
    "rmcv = RandomizedSearchCV(rf_clf,parameter,cv = 5)\n",
    "rmcv.fit(x_train,y_train)\n",
    "rmcv.best_estimator_"
   ]
  },
  {
   "cell_type": "code",
   "execution_count": 118,
   "id": "a89f33a6",
   "metadata": {},
   "outputs": [
    {
     "data": {
      "text/plain": [
       "RandomForestClassifier(max_depth=5, max_features='log2', min_samples_leaf=3,\n",
       "                       min_samples_split=4, n_estimators=11, oob_score=True,\n",
       "                       random_state=42)"
      ]
     },
     "execution_count": 118,
     "metadata": {},
     "output_type": "execute_result"
    }
   ],
   "source": [
    "rf_clf2 = RandomForestClassifier(max_depth=5, max_features='log2', min_samples_leaf=3,\n",
    "                       min_samples_split=4, n_estimators=11, oob_score=True,\n",
    "                       random_state=42)\n",
    "rf_clf2.fit(x_train,y_train)"
   ]
  },
  {
   "cell_type": "code",
   "execution_count": 119,
   "id": "de73619c",
   "metadata": {},
   "outputs": [
    {
     "name": "stdout",
     "output_type": "stream",
     "text": [
      "confusion matrics\n",
      " [[40  0  0]\n",
      " [ 0 38  2]\n",
      " [ 0  3 37]]\n",
      "accuracy  0.9583333333333334\n",
      "classification report\n",
      "               precision    recall  f1-score   support\n",
      "\n",
      "           0       1.00      1.00      1.00        40\n",
      "           1       0.93      0.95      0.94        40\n",
      "           2       0.95      0.93      0.94        40\n",
      "\n",
      "    accuracy                           0.96       120\n",
      "   macro avg       0.96      0.96      0.96       120\n",
      "weighted avg       0.96      0.96      0.96       120\n",
      "\n"
     ]
    }
   ],
   "source": [
    "#training\n",
    "\n",
    "y_pred_train = rf_clf2.predict(x_train)\n",
    "\n",
    "cnf_matrics = confusion_matrix(y_train,y_pred_train)\n",
    "print(\"confusion matrics\\n\",cnf_matrics)\n",
    "\n",
    "accuracy = accuracy_score(y_train,y_pred_train)\n",
    "print(\"accuracy \",accuracy)\n",
    "\n",
    "cls_report = classification_report(y_train,y_pred_train)\n",
    "print(\"classification report\\n\",cls_report)"
   ]
  },
  {
   "cell_type": "code",
   "execution_count": 120,
   "id": "30a3bfd2",
   "metadata": {},
   "outputs": [
    {
     "name": "stdout",
     "output_type": "stream",
     "text": [
      "confusion matrics\n",
      " [[10  0  0]\n",
      " [ 0  9  1]\n",
      " [ 0  1  9]]\n",
      "accuracy  0.9333333333333333\n",
      "classification report\n",
      "               precision    recall  f1-score   support\n",
      "\n",
      "           0       1.00      1.00      1.00        10\n",
      "           1       0.90      0.90      0.90        10\n",
      "           2       0.90      0.90      0.90        10\n",
      "\n",
      "    accuracy                           0.93        30\n",
      "   macro avg       0.93      0.93      0.93        30\n",
      "weighted avg       0.93      0.93      0.93        30\n",
      "\n"
     ]
    }
   ],
   "source": [
    "#testing\n",
    "\n",
    "y_pred_test =rf_clf2.predict(x_test)\n",
    "\n",
    "cnf_matrics = confusion_matrix(y_test,y_pred_test)\n",
    "print(\"confusion matrics\\n\",cnf_matrics)\n",
    "\n",
    "accuracy = accuracy_score(y_test,y_pred_test)\n",
    "print(\"accuracy \",accuracy)\n",
    "\n",
    "cls_report = classification_report(y_test,y_pred_test)\n",
    "print(\"classification report\\n\",cls_report)"
   ]
  },
  {
   "cell_type": "code",
   "execution_count": null,
   "id": "cc7e8173",
   "metadata": {},
   "outputs": [],
   "source": [
    "# select feature"
   ]
  },
  {
   "cell_type": "code",
   "execution_count": 124,
   "id": "a6a01ef6",
   "metadata": {},
   "outputs": [
    {
     "data": {
      "text/plain": [
       "<AxesSubplot:>"
      ]
     },
     "execution_count": 124,
     "metadata": {},
     "output_type": "execute_result"
    },
    {
     "data": {
      "image/png": "[encoded data removed]",
      "text/plain": [
       "<Figure size 432x288 with 1 Axes>"
      ]
     },
     "metadata": {
      "needs_background": "light"
     },
     "output_type": "display_data"
    }
   ],
   "source": [
    "array = rf_clf2.feature_importances_\n",
    "s = pd.Series(array,index=x.columns)\n",
    "s.sort_values().plot(kind=\"barh\")"
   ]
  },
  {
   "cell_type": "code",
   "execution_count": 79,
   "id": "28109ea6",
   "metadata": {},
   "outputs": [],
   "source": [
    "x = df.drop([\"target\",\"sepal width (cm)\"],axis  =1)\n",
    "y = df[\"target\"]\n",
    "x_train,x_test,y_train,y_test = train_test_split(x,y,test_size=0.2,random_state=42,stratify=y)"
   ]
  },
  {
   "cell_type": "code",
   "execution_count": 81,
   "id": "42f4977b",
   "metadata": {},
   "outputs": [
    {
     "data": {
      "text/plain": [
       "1.0"
      ]
     },
     "execution_count": 81,
     "metadata": {},
     "output_type": "execute_result"
    }
   ],
   "source": [
    "rf_f = RandomForestClassifier()\n",
    "\n",
    "rf_clf.fit(x_train,y_train)\n",
    "rf_clf.score(x_train,y_train)"
   ]
  },
  {
   "cell_type": "code",
   "execution_count": 82,
   "id": "54a7f3da",
   "metadata": {},
   "outputs": [
    {
     "data": {
      "text/plain": [
       "0.9"
      ]
     },
     "execution_count": 82,
     "metadata": {},
     "output_type": "execute_result"
    }
   ],
   "source": [
    "rf_clf.score(x_test,y_test)"
   ]
  },
  {
   "cell_type": "markdown",
   "id": "83ec6e45",
   "metadata": {},
   "source": [
    "#### RMSc"
   ]
  },
  {
   "cell_type": "code",
   "execution_count": 84,
   "id": "1ec1f0d6",
   "metadata": {},
   "outputs": [
    {
     "data": {
      "text/plain": [
       "RandomForestClassifier(criterion='entropy', max_depth=4, max_features='sqrt',\n",
       "                       min_samples_leaf=9, min_samples_split=4, n_estimators=15,\n",
       "                       oob_score=True, random_state=43)"
      ]
     },
     "execution_count": 84,
     "metadata": {},
     "output_type": "execute_result"
    }
   ],
   "source": [
    "rf_f = RandomForestClassifier()\n",
    "parameter = {\"n_estimators\":np.arange(10,20),\n",
    "                \"criterion\":[\"gini\",\"entropy\"],\n",
    "                 \"max_depth\" :np.arange(4,10),\n",
    "                 \"min_samples_split\":np.arange(3,10),\n",
    "                 \"min_samples_leaf\":np.arange(3,10),\n",
    "                 \"max_features\":[\"sqrt\", \"log2\"],\n",
    "                 \"random_state\":[41,42,43,44,45],\n",
    "                 \"oob_score\":[True]}\n",
    "rmcv_rf = RandomizedSearchCV(rf_clf,parameter,cv = 5)\n",
    "rmcv_rf.fit(x_train,y_train)\n",
    "rmcv_rf.best_estimator_\n"
   ]
  },
  {
   "cell_type": "code",
   "execution_count": 85,
   "id": "dd69ce04",
   "metadata": {},
   "outputs": [
    {
     "data": {
      "text/plain": [
       "RandomForestClassifier(criterion='entropy', max_depth=4, max_features='sqrt',\n",
       "                       min_samples_leaf=9, min_samples_split=4, n_estimators=15,\n",
       "                       oob_score=True, random_state=43)"
      ]
     },
     "execution_count": 85,
     "metadata": {},
     "output_type": "execute_result"
    }
   ],
   "source": [
    "rf_clff = RandomForestClassifier(criterion='entropy', max_depth=4, max_features='sqrt',\n",
    "                       min_samples_leaf=9, min_samples_split=4, n_estimators=15,\n",
    "                       oob_score=True, random_state=43)\n",
    "rf_clff.fit(x_train,y_train)"
   ]
  },
  {
   "cell_type": "code",
   "execution_count": 86,
   "id": "5fc07dd4",
   "metadata": {},
   "outputs": [
    {
     "name": "stdout",
     "output_type": "stream",
     "text": [
      "confusion matrics\n",
      " [[40  0  0]\n",
      " [ 0 39  1]\n",
      " [ 0  3 37]]\n",
      "accuracy  0.9666666666666667\n",
      "classification report\n",
      "               precision    recall  f1-score   support\n",
      "\n",
      "           0       1.00      1.00      1.00        40\n",
      "           1       0.93      0.97      0.95        40\n",
      "           2       0.97      0.93      0.95        40\n",
      "\n",
      "    accuracy                           0.97       120\n",
      "   macro avg       0.97      0.97      0.97       120\n",
      "weighted avg       0.97      0.97      0.97       120\n",
      "\n"
     ]
    }
   ],
   "source": [
    "#training\n",
    "\n",
    "y_pred_train = rf_clff.predict(x_train)\n",
    "\n",
    "cnf_matrics = confusion_matrix(y_train,y_pred_train)\n",
    "print(\"confusion matrics\\n\",cnf_matrics)\n",
    "\n",
    "accuracy = accuracy_score(y_train,y_pred_train)\n",
    "print(\"accuracy \",accuracy)\n",
    "\n",
    "cls_report = classification_report(y_train,y_pred_train)\n",
    "print(\"classification report\\n\",cls_report)"
   ]
  },
  {
   "cell_type": "code",
   "execution_count": 87,
   "id": "1355d6e3",
   "metadata": {},
   "outputs": [
    {
     "name": "stdout",
     "output_type": "stream",
     "text": [
      "confusion matrics\n",
      " [[10  0  0]\n",
      " [ 0  9  1]\n",
      " [ 0  1  9]]\n",
      "accuracy  0.9333333333333333\n",
      "classification report\n",
      "               precision    recall  f1-score   support\n",
      "\n",
      "           0       1.00      1.00      1.00        10\n",
      "           1       0.90      0.90      0.90        10\n",
      "           2       0.90      0.90      0.90        10\n",
      "\n",
      "    accuracy                           0.93        30\n",
      "   macro avg       0.93      0.93      0.93        30\n",
      "weighted avg       0.93      0.93      0.93        30\n",
      "\n"
     ]
    }
   ],
   "source": [
    "#testing\n",
    "\n",
    "y_pred_test =rf_clff.predict(x_test)\n",
    "\n",
    "cnf_matrics = confusion_matrix(y_test,y_pred_test)\n",
    "print(\"confusion matrics\\n\",cnf_matrics)\n",
    "\n",
    "accuracy = accuracy_score(y_test,y_pred_test)\n",
    "print(\"accuracy \",accuracy)\n",
    "\n",
    "cls_report = classification_report(y_test,y_pred_test)\n",
    "print(\"classification report\\n\",cls_report)"
   ]
  },
  {
   "cell_type": "markdown",
   "id": "92e35fe2",
   "metadata": {},
   "source": [
    "## Fina Model"
   ]
  },
  {
   "cell_type": "code",
   "execution_count": 4,
   "id": "ccfd5976",
   "metadata": {},
   "outputs": [],
   "source": [
    "x = df.drop(\"target\",axis = 1)\n",
    "y = df[\"target\"]\n",
    "x_train,x_test,y_train,y_test = train_test_split(x,y,test_size=0.2,random_state=42,stratify=y)"
   ]
  },
  {
   "cell_type": "code",
   "execution_count": 5,
   "id": "44ca9c60",
   "metadata": {},
   "outputs": [
    {
     "data": {
      "text/plain": [
       "KNeighborsClassifier(n_neighbors=6)"
      ]
     },
     "execution_count": 5,
     "metadata": {},
     "output_type": "execute_result"
    }
   ],
   "source": [
    "knn_clf = KNeighborsClassifier()\n",
    "parameter = {\"n_neighbors\": np.arange(2,20),\n",
    "            \"p\":[1,2]}\n",
    "gscv = GridSearchCV(knn_clf,parameter,cv = 5)\n",
    "gscv.fit(x_train,y_train)\n",
    "gscv.best_estimator_"
   ]
  },
  {
   "cell_type": "code",
   "execution_count": 6,
   "id": "fd269ee6",
   "metadata": {},
   "outputs": [
    {
     "data": {
      "text/plain": [
       "KNeighborsClassifier(n_neighbors=6)"
      ]
     },
     "execution_count": 6,
     "metadata": {},
     "output_type": "execute_result"
    }
   ],
   "source": [
    "knn_clf1 = KNeighborsClassifier(n_neighbors=6)\n",
    "knn_clf1.fit(x_train,y_train)"
   ]
  },
  {
   "cell_type": "code",
   "execution_count": 7,
   "id": "128a9450",
   "metadata": {},
   "outputs": [
    {
     "data": {
      "text/plain": [
       "0.9666666666666667"
      ]
     },
     "execution_count": 7,
     "metadata": {},
     "output_type": "execute_result"
    }
   ],
   "source": [
    "knn_clf1.score(x_train,y_train)"
   ]
  },
  {
   "cell_type": "code",
   "execution_count": 8,
   "id": "2ffce637",
   "metadata": {},
   "outputs": [
    {
     "data": {
      "text/plain": [
       "0.9666666666666667"
      ]
     },
     "execution_count": 8,
     "metadata": {},
     "output_type": "execute_result"
    }
   ],
   "source": [
    "knn_clf1.score(x_test,y_test)"
   ]
  },
  {
   "cell_type": "markdown",
   "id": "80089e2e",
   "metadata": {},
   "source": [
    "## user_input"
   ]
  },
  {
   "cell_type": "code",
   "execution_count": 9,
   "id": "8d18663b",
   "metadata": {},
   "outputs": [
    {
     "data": {
      "text/plain": [
       "{'columns': ['sepal length (cm)',\n",
       "  'sepal width (cm)',\n",
       "  'petal length (cm)',\n",
       "  'petal width (cm)']}"
      ]
     },
     "execution_count": 9,
     "metadata": {},
     "output_type": "execute_result"
    }
   ],
   "source": [
    "project_data = {\"columns\":list(x.columns)}\n",
    "project_data"
   ]
  },
  {
   "cell_type": "code",
   "execution_count": 10,
   "id": "de98df65",
   "metadata": {},
   "outputs": [],
   "source": [
    "sepal_length = 6.1\n",
    "sepal_width = 3.0\n",
    "petal_length = 4.9\n",
    "petal_width = 1.8"
   ]
  },
  {
   "cell_type": "code",
   "execution_count": 13,
   "id": "4acbd719",
   "metadata": {},
   "outputs": [
    {
     "data": {
      "text/plain": [
       "4"
      ]
     },
     "execution_count": 13,
     "metadata": {},
     "output_type": "execute_result"
    }
   ],
   "source": [
    "len(project_data[\"columns\"])"
   ]
  },
  {
   "cell_type": "code",
   "execution_count": 14,
   "id": "18ce124d",
   "metadata": {},
   "outputs": [
    {
     "data": {
      "text/plain": [
       "2"
      ]
     },
     "execution_count": 14,
     "metadata": {},
     "output_type": "execute_result"
    }
   ],
   "source": [
    "test_array = np.zeros(len(project_data[\"columns\"]))\n",
    "test_array[0] = sepal_length\n",
    "test_array[1] = sepal_width\n",
    "test_array[2] = petal_length\n",
    "test_array[3] = petal_width\n",
    "knn_clf1.predict([test_array])[0]\n"
   ]
  },
  {
   "cell_type": "code",
   "execution_count": 15,
   "id": "c9f9eb06",
   "metadata": {},
   "outputs": [
    {
     "data": {
      "text/plain": [
       "array([0, 1, 1, 0, 1, 2, 1, 2, 2, 2, 2, 1, 1, 1, 1, 0, 0, 2, 2, 0, 2, 0,\n",
       "       2, 0, 1, 2, 2, 0, 2, 0, 0, 1, 1, 0, 2, 2, 1, 1, 2, 1, 0, 1, 0, 2,\n",
       "       0, 0, 2, 0, 0, 0, 0, 1, 2, 1, 0, 2, 1, 2, 0, 2, 0, 1, 2, 0, 2, 1,\n",
       "       2, 1, 1, 2, 0, 0, 0, 1, 1, 2, 1, 2, 2, 1, 0, 2, 1, 0, 2, 0, 2, 1,\n",
       "       1, 0, 1, 2, 0, 0, 2, 2, 2, 1, 2, 0, 2, 1, 2, 2, 0, 1, 1, 1, 1, 1,\n",
       "       0, 2, 1, 1, 0, 0, 0, 0, 1, 0])"
      ]
     },
     "execution_count": 15,
     "metadata": {},
     "output_type": "execute_result"
    }
   ],
   "source": [
    "y_pred = knn_clf1.predict(x_train)\n",
    "y_pred"
   ]
  },
  {
   "cell_type": "code",
   "execution_count": 16,
   "id": "7ce28c4f",
   "metadata": {},
   "outputs": [
    {
     "data": {
      "text/html": [
       "<div>\n",
       "<style scoped>\n",
       "    .dataframe tbody tr th:only-of-type {\n",
       "        vertical-align: middle;\n",
       "    }\n",
       "\n",
       "    .dataframe tbody tr th {\n",
       "        vertical-align: top;\n",
       "    }\n",
       "\n",
       "    .dataframe thead th {\n",
       "        text-align: right;\n",
       "    }\n",
       "</style>\n",
       "<table border=\"1\" class=\"dataframe\">\n",
       "  <thead>\n",
       "    <tr style=\"text-align: right;\">\n",
       "      <th></th>\n",
       "      <th>sepal length (cm)</th>\n",
       "      <th>sepal width (cm)</th>\n",
       "      <th>petal length (cm)</th>\n",
       "      <th>petal width (cm)</th>\n",
       "      <th>y_actual</th>\n",
       "      <th>y_pred</th>\n",
       "    </tr>\n",
       "  </thead>\n",
       "  <tbody>\n",
       "    <tr>\n",
       "      <th>8</th>\n",
       "      <td>4.4</td>\n",
       "      <td>2.9</td>\n",
       "      <td>1.4</td>\n",
       "      <td>0.2</td>\n",
       "      <td>0</td>\n",
       "      <td>0</td>\n",
       "    </tr>\n",
       "    <tr>\n",
       "      <th>106</th>\n",
       "      <td>4.9</td>\n",
       "      <td>2.5</td>\n",
       "      <td>4.5</td>\n",
       "      <td>1.7</td>\n",
       "      <td>2</td>\n",
       "      <td>1</td>\n",
       "    </tr>\n",
       "    <tr>\n",
       "      <th>76</th>\n",
       "      <td>6.8</td>\n",
       "      <td>2.8</td>\n",
       "      <td>4.8</td>\n",
       "      <td>1.4</td>\n",
       "      <td>1</td>\n",
       "      <td>1</td>\n",
       "    </tr>\n",
       "    <tr>\n",
       "      <th>9</th>\n",
       "      <td>4.9</td>\n",
       "      <td>3.1</td>\n",
       "      <td>1.5</td>\n",
       "      <td>0.1</td>\n",
       "      <td>0</td>\n",
       "      <td>0</td>\n",
       "    </tr>\n",
       "    <tr>\n",
       "      <th>89</th>\n",
       "      <td>5.5</td>\n",
       "      <td>2.5</td>\n",
       "      <td>4.0</td>\n",
       "      <td>1.3</td>\n",
       "      <td>1</td>\n",
       "      <td>1</td>\n",
       "    </tr>\n",
       "    <tr>\n",
       "      <th>...</th>\n",
       "      <td>...</td>\n",
       "      <td>...</td>\n",
       "      <td>...</td>\n",
       "      <td>...</td>\n",
       "      <td>...</td>\n",
       "      <td>...</td>\n",
       "    </tr>\n",
       "    <tr>\n",
       "      <th>37</th>\n",
       "      <td>4.9</td>\n",
       "      <td>3.6</td>\n",
       "      <td>1.4</td>\n",
       "      <td>0.1</td>\n",
       "      <td>0</td>\n",
       "      <td>0</td>\n",
       "    </tr>\n",
       "    <tr>\n",
       "      <th>2</th>\n",
       "      <td>4.7</td>\n",
       "      <td>3.2</td>\n",
       "      <td>1.3</td>\n",
       "      <td>0.2</td>\n",
       "      <td>0</td>\n",
       "      <td>0</td>\n",
       "    </tr>\n",
       "    <tr>\n",
       "      <th>33</th>\n",
       "      <td>5.5</td>\n",
       "      <td>4.2</td>\n",
       "      <td>1.4</td>\n",
       "      <td>0.2</td>\n",
       "      <td>0</td>\n",
       "      <td>0</td>\n",
       "    </tr>\n",
       "    <tr>\n",
       "      <th>52</th>\n",
       "      <td>6.9</td>\n",
       "      <td>3.1</td>\n",
       "      <td>4.9</td>\n",
       "      <td>1.5</td>\n",
       "      <td>1</td>\n",
       "      <td>1</td>\n",
       "    </tr>\n",
       "    <tr>\n",
       "      <th>3</th>\n",
       "      <td>4.6</td>\n",
       "      <td>3.1</td>\n",
       "      <td>1.5</td>\n",
       "      <td>0.2</td>\n",
       "      <td>0</td>\n",
       "      <td>0</td>\n",
       "    </tr>\n",
       "  </tbody>\n",
       "</table>\n",
       "<p>120 rows × 6 columns</p>\n",
       "</div>"
      ],
      "text/plain": [
       "     sepal length (cm)  sepal width (cm)  petal length (cm)  petal width (cm)  \\\n",
       "8                  4.4               2.9                1.4               0.2   \n",
       "106                4.9               2.5                4.5               1.7   \n",
       "76                 6.8               2.8                4.8               1.4   \n",
       "9                  4.9               3.1                1.5               0.1   \n",
       "89                 5.5               2.5                4.0               1.3   \n",
       "..                 ...               ...                ...               ...   \n",
       "37                 4.9               3.6                1.4               0.1   \n",
       "2                  4.7               3.2                1.3               0.2   \n",
       "33                 5.5               4.2                1.4               0.2   \n",
       "52                 6.9               3.1                4.9               1.5   \n",
       "3                  4.6               3.1                1.5               0.2   \n",
       "\n",
       "     y_actual  y_pred  \n",
       "8           0       0  \n",
       "106         2       1  \n",
       "76          1       1  \n",
       "9           0       0  \n",
       "89          1       1  \n",
       "..        ...     ...  \n",
       "37          0       0  \n",
       "2           0       0  \n",
       "33          0       0  \n",
       "52          1       1  \n",
       "3           0       0  \n",
       "\n",
       "[120 rows x 6 columns]"
      ]
     },
     "execution_count": 16,
     "metadata": {},
     "output_type": "execute_result"
    }
   ],
   "source": [
    "df_2 = pd.DataFrame(x_train)\n",
    "df_2[\"y_actual\"] = y_train\n",
    "df_2[\"y_pred\"] = y_pred\n",
    "df_2"
   ]
  },
  {
   "cell_type": "code",
   "execution_count": 21,
   "id": "d34b7f13",
   "metadata": {},
   "outputs": [],
   "source": [
    "import json\n",
    "with open(\"json_data1.json\",\"w\") as f:\n",
    "    json.dump(project_data,f)"
   ]
  },
  {
   "cell_type": "code",
   "execution_count": 18,
   "id": "0984e6da",
   "metadata": {},
   "outputs": [],
   "source": [
    "import pickle\n",
    "with open(\"knn_model.pkl\",\"wb\") as f:\n",
    "    pickle.dump(knn_clf1,f)"
   ]
  },
  {
   "cell_type": "code",
   "execution_count": null,
   "id": "36522195",
   "metadata": {},
   "outputs": [],
   "source": []
  }
 ],
 "metadata": {
  "kernelspec": {
   "display_name": "Python 3 (ipykernel)",
   "language": "python",
   "name": "python3"
  },
  "language_info": {
   "codemirror_mode": {
    "name": "ipython",
    "version": 3
   },
   "file_extension": ".py",
   "mimetype": "text/x-python",
   "name": "python",
   "nbconvert_exporter": "python",
   "pygments_lexer": "ipython3",
   "version": "3.9.12"
  }
 },
 "nbformat": 4,
 "nbformat_minor": 5
}
